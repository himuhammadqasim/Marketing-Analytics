{
 "cells": [
  {
   "cell_type": "code",
   "execution_count": null,
   "id": "234ee569",
   "metadata": {},
   "outputs": [],
   "source": [
    "# Core Sentiment Analysis"
   ]
  },
  {
   "cell_type": "code",
   "execution_count": null,
   "id": "f48e6209",
   "metadata": {},
   "outputs": [],
   "source": [
    "# Only Reviews Dataframe taken into Consideration : dfRev_uniques.csv'"
   ]
  },
  {
   "cell_type": "code",
   "execution_count": 2,
   "id": "f95a26a8",
   "metadata": {},
   "outputs": [],
   "source": [
    "import pandas as pd"
   ]
  },
  {
   "cell_type": "code",
   "execution_count": 2,
   "id": "46b7aa95",
   "metadata": {},
   "outputs": [],
   "source": [
    "import seaborn as sns\n",
    "import matplotlib.pyplot as plt"
   ]
  },
  {
   "cell_type": "code",
   "execution_count": 3,
   "id": "7b8bce70",
   "metadata": {},
   "outputs": [
    {
     "name": "stdout",
     "output_type": "stream",
     "text": [
      "Requirement already satisfied: nltk in c:\\users\\admin\\anaconda3\\lib\\site-packages (3.7)\n",
      "Requirement already satisfied: tqdm in c:\\users\\admin\\anaconda3\\lib\\site-packages (from nltk) (4.64.1)\n",
      "Requirement already satisfied: click in c:\\users\\admin\\anaconda3\\lib\\site-packages (from nltk) (8.0.4)\n",
      "Requirement already satisfied: regex>=2021.8.3 in c:\\users\\admin\\anaconda3\\lib\\site-packages (from nltk) (2022.7.9)\n",
      "Requirement already satisfied: joblib in c:\\users\\admin\\anaconda3\\lib\\site-packages (from nltk) (1.1.1)\n",
      "Requirement already satisfied: colorama in c:\\users\\admin\\anaconda3\\lib\\site-packages (from click->nltk) (0.4.6)\n"
     ]
    }
   ],
   "source": [
    "!pip install nltk"
   ]
  },
  {
   "cell_type": "code",
   "execution_count": 5,
   "id": "8d8a7854",
   "metadata": {},
   "outputs": [
    {
     "name": "stdout",
     "output_type": "stream",
     "text": [
      "Requirement already satisfied: spacy in c:\\users\\admin\\anaconda3\\lib\\site-packages (3.6.0)\n",
      "Requirement already satisfied: cymem<2.1.0,>=2.0.2 in c:\\users\\admin\\anaconda3\\lib\\site-packages (from spacy) (2.0.7)\n",
      "Requirement already satisfied: langcodes<4.0.0,>=3.2.0 in c:\\users\\admin\\anaconda3\\lib\\site-packages (from spacy) (3.3.0)\n",
      "Requirement already satisfied: packaging>=20.0 in c:\\users\\admin\\anaconda3\\lib\\site-packages (from spacy) (22.0)\n",
      "Requirement already satisfied: jinja2 in c:\\users\\admin\\anaconda3\\lib\\site-packages (from spacy) (3.1.2)\n",
      "Requirement already satisfied: typer<0.10.0,>=0.3.0 in c:\\users\\admin\\anaconda3\\lib\\site-packages (from spacy) (0.9.0)\n",
      "Requirement already satisfied: requests<3.0.0,>=2.13.0 in c:\\users\\admin\\anaconda3\\lib\\site-packages (from spacy) (2.28.1)\n",
      "Requirement already satisfied: pathy>=0.10.0 in c:\\users\\admin\\anaconda3\\lib\\site-packages (from spacy) (0.10.2)\n",
      "Requirement already satisfied: preshed<3.1.0,>=3.0.2 in c:\\users\\admin\\anaconda3\\lib\\site-packages (from spacy) (3.0.8)\n",
      "Requirement already satisfied: spacy-legacy<3.1.0,>=3.0.11 in c:\\users\\admin\\anaconda3\\lib\\site-packages (from spacy) (3.0.12)\n",
      "Requirement already satisfied: setuptools in c:\\users\\admin\\anaconda3\\lib\\site-packages (from spacy) (65.6.3)\n",
      "Requirement already satisfied: thinc<8.2.0,>=8.1.8 in c:\\users\\admin\\anaconda3\\lib\\site-packages (from spacy) (8.1.10)\n",
      "Requirement already satisfied: wasabi<1.2.0,>=0.9.1 in c:\\users\\admin\\anaconda3\\lib\\site-packages (from spacy) (1.1.2)\n",
      "Requirement already satisfied: catalogue<2.1.0,>=2.0.6 in c:\\users\\admin\\anaconda3\\lib\\site-packages (from spacy) (2.0.8)\n",
      "Requirement already satisfied: pydantic!=1.8,!=1.8.1,<1.11.0,>=1.7.4 in c:\\users\\admin\\anaconda3\\lib\\site-packages (from spacy) (1.10.11)\n",
      "Requirement already satisfied: srsly<3.0.0,>=2.4.3 in c:\\users\\admin\\anaconda3\\lib\\site-packages (from spacy) (2.4.6)\n",
      "Requirement already satisfied: murmurhash<1.1.0,>=0.28.0 in c:\\users\\admin\\anaconda3\\lib\\site-packages (from spacy) (1.0.9)\n",
      "Requirement already satisfied: smart-open<7.0.0,>=5.2.1 in c:\\users\\admin\\anaconda3\\lib\\site-packages (from spacy) (5.2.1)\n",
      "Requirement already satisfied: tqdm<5.0.0,>=4.38.0 in c:\\users\\admin\\anaconda3\\lib\\site-packages (from spacy) (4.64.1)\n",
      "Requirement already satisfied: numpy>=1.15.0 in c:\\users\\admin\\anaconda3\\lib\\site-packages (from spacy) (1.23.5)\n",
      "Requirement already satisfied: spacy-loggers<2.0.0,>=1.0.0 in c:\\users\\admin\\anaconda3\\lib\\site-packages (from spacy) (1.0.4)\n",
      "Requirement already satisfied: typing-extensions>=4.2.0 in c:\\users\\admin\\anaconda3\\lib\\site-packages (from pydantic!=1.8,!=1.8.1,<1.11.0,>=1.7.4->spacy) (4.4.0)\n",
      "Requirement already satisfied: certifi>=2017.4.17 in c:\\users\\admin\\anaconda3\\lib\\site-packages (from requests<3.0.0,>=2.13.0->spacy) (2022.12.7)\n",
      "Requirement already satisfied: idna<4,>=2.5 in c:\\users\\admin\\anaconda3\\lib\\site-packages (from requests<3.0.0,>=2.13.0->spacy) (3.4)\n",
      "Requirement already satisfied: urllib3<1.27,>=1.21.1 in c:\\users\\admin\\anaconda3\\lib\\site-packages (from requests<3.0.0,>=2.13.0->spacy) (1.26.14)\n",
      "Requirement already satisfied: charset-normalizer<3,>=2 in c:\\users\\admin\\anaconda3\\lib\\site-packages (from requests<3.0.0,>=2.13.0->spacy) (2.0.4)\n",
      "Requirement already satisfied: confection<1.0.0,>=0.0.1 in c:\\users\\admin\\anaconda3\\lib\\site-packages (from thinc<8.2.0,>=8.1.8->spacy) (0.1.0)\n",
      "Requirement already satisfied: blis<0.8.0,>=0.7.8 in c:\\users\\admin\\anaconda3\\lib\\site-packages (from thinc<8.2.0,>=8.1.8->spacy) (0.7.9)\n",
      "Requirement already satisfied: colorama in c:\\users\\admin\\anaconda3\\lib\\site-packages (from tqdm<5.0.0,>=4.38.0->spacy) (0.4.6)\n",
      "Requirement already satisfied: click<9.0.0,>=7.1.1 in c:\\users\\admin\\anaconda3\\lib\\site-packages (from typer<0.10.0,>=0.3.0->spacy) (8.0.4)\n",
      "Requirement already satisfied: MarkupSafe>=2.0 in c:\\users\\admin\\anaconda3\\lib\\site-packages (from jinja2->spacy) (2.1.1)\n"
     ]
    }
   ],
   "source": [
    "!pip install spacy"
   ]
  },
  {
   "cell_type": "code",
   "execution_count": 3,
   "id": "bccecdc8",
   "metadata": {},
   "outputs": [],
   "source": [
    "import spacy\n",
    "nlp = spacy.load('en_core_web_sm')"
   ]
  },
  {
   "cell_type": "code",
   "execution_count": null,
   "id": "e5863863",
   "metadata": {},
   "outputs": [],
   "source": [
    "# DataframeContains Reviews only"
   ]
  },
  {
   "cell_type": "code",
   "execution_count": 4,
   "id": "03bd3427",
   "metadata": {},
   "outputs": [],
   "source": [
    "dfRev = pd.read_csv('dfRev_uniques.csv')"
   ]
  },
  {
   "cell_type": "code",
   "execution_count": 5,
   "id": "076b2277",
   "metadata": {},
   "outputs": [],
   "source": [
    "dfRev.drop('Unnamed: 0', axis = 1, inplace = True)"
   ]
  },
  {
   "cell_type": "code",
   "execution_count": 6,
   "id": "6ad4397b",
   "metadata": {},
   "outputs": [
    {
     "data": {
      "text/html": [
       "<div>\n",
       "<style scoped>\n",
       "    .dataframe tbody tr th:only-of-type {\n",
       "        vertical-align: middle;\n",
       "    }\n",
       "\n",
       "    .dataframe tbody tr th {\n",
       "        vertical-align: top;\n",
       "    }\n",
       "\n",
       "    .dataframe thead th {\n",
       "        text-align: right;\n",
       "    }\n",
       "</style>\n",
       "<table border=\"1\" class=\"dataframe\">\n",
       "  <thead>\n",
       "    <tr style=\"text-align: right;\">\n",
       "      <th></th>\n",
       "      <th>review_text</th>\n",
       "      <th>sentiment_label</th>\n",
       "      <th>review_id</th>\n",
       "      <th>customer_id</th>\n",
       "    </tr>\n",
       "  </thead>\n",
       "  <tbody>\n",
       "    <tr>\n",
       "      <th>0</th>\n",
       "      <td>best coffee from green mountain so far i recom...</td>\n",
       "      <td>positive</td>\n",
       "      <td>16434</td>\n",
       "      <td>7821</td>\n",
       "    </tr>\n",
       "    <tr>\n",
       "      <th>1</th>\n",
       "      <td>My vet told me to have my dog get these to hel...</td>\n",
       "      <td>positive</td>\n",
       "      <td>21485</td>\n",
       "      <td>246969</td>\n",
       "    </tr>\n",
       "    <tr>\n",
       "      <th>2</th>\n",
       "      <td>i have not gotten my order or heard anything f...</td>\n",
       "      <td>negative</td>\n",
       "      <td>104035</td>\n",
       "      <td>298715</td>\n",
       "    </tr>\n",
       "    <tr>\n",
       "      <th>3</th>\n",
       "      <td>No bitter aftertaste no stomach burning after ...</td>\n",
       "      <td>positive</td>\n",
       "      <td>115260</td>\n",
       "      <td>406505</td>\n",
       "    </tr>\n",
       "    <tr>\n",
       "      <th>4</th>\n",
       "      <td>I have purchase this coffee several times my h...</td>\n",
       "      <td>positive</td>\n",
       "      <td>9418</td>\n",
       "      <td>693062</td>\n",
       "    </tr>\n",
       "  </tbody>\n",
       "</table>\n",
       "</div>"
      ],
      "text/plain": [
       "                                         review_text sentiment_label  \\\n",
       "0  best coffee from green mountain so far i recom...        positive   \n",
       "1  My vet told me to have my dog get these to hel...        positive   \n",
       "2  i have not gotten my order or heard anything f...        negative   \n",
       "3  No bitter aftertaste no stomach burning after ...        positive   \n",
       "4  I have purchase this coffee several times my h...        positive   \n",
       "\n",
       "   review_id  customer_id  \n",
       "0      16434         7821  \n",
       "1      21485       246969  \n",
       "2     104035       298715  \n",
       "3     115260       406505  \n",
       "4       9418       693062  "
      ]
     },
     "execution_count": 6,
     "metadata": {},
     "output_type": "execute_result"
    }
   ],
   "source": [
    "dfRev.head()"
   ]
  },
  {
   "cell_type": "code",
   "execution_count": 7,
   "id": "1f95ffa7",
   "metadata": {},
   "outputs": [
    {
     "data": {
      "text/plain": [
       "(57, 4)"
      ]
     },
     "execution_count": 7,
     "metadata": {},
     "output_type": "execute_result"
    }
   ],
   "source": [
    "dfRev.shape"
   ]
  },
  {
   "cell_type": "code",
   "execution_count": 8,
   "id": "a31b78ac",
   "metadata": {},
   "outputs": [
    {
     "data": {
      "text/plain": [
       "Index(['review_text', 'sentiment_label', 'review_id', 'customer_id'], dtype='object')"
      ]
     },
     "execution_count": 8,
     "metadata": {},
     "output_type": "execute_result"
    }
   ],
   "source": [
    "dfRev.columns"
   ]
  },
  {
   "cell_type": "code",
   "execution_count": 9,
   "id": "2be912c1",
   "metadata": {},
   "outputs": [
    {
     "data": {
      "text/plain": [
       "positive    44\n",
       "neutral      9\n",
       "negative     4\n",
       "Name: sentiment_label, dtype: int64"
      ]
     },
     "execution_count": 9,
     "metadata": {},
     "output_type": "execute_result"
    }
   ],
   "source": [
    "dfRev['sentiment_label'].value_counts()\n",
    "\n",
    "# 44 positive reviews\n",
    "# 9 neutral reviews\n",
    "# 4 Negative reviews"
   ]
  },
  {
   "cell_type": "code",
   "execution_count": 10,
   "id": "08dbe9cc",
   "metadata": {},
   "outputs": [
    {
     "data": {
      "image/png": "[encoded data removed]",
      "text/plain": [
       "<Figure size 640x480 with 1 Axes>"
      ]
     },
     "metadata": {},
     "output_type": "display_data"
    }
   ],
   "source": [
    "import matplotlib.pyplot as plt\n",
    "\n",
    "# Count the occurrences of each unique value in the `sentiment` column\n",
    "sentiment_counts = dfRev['sentiment_label'].value_counts()\n",
    "\n",
    "# Create a bar plot using pandas\n",
    "sentiment_counts.plot(kind='barh')\n",
    "\n",
    "# Set the plot title and axis labels\n",
    "plt.title('Sentiment Distribution')\n",
    "plt.ylabel('sentiment_label')\n",
    "plt.xlabel('Count')\n",
    "\n",
    "# Display the plot\n",
    "plt.show()"
   ]
  },
  {
   "cell_type": "code",
   "execution_count": 11,
   "id": "6430c325",
   "metadata": {},
   "outputs": [
    {
     "data": {
      "text/plain": [
       "<Axes: ylabel='sentiment_label'>"
      ]
     },
     "execution_count": 11,
     "metadata": {},
     "output_type": "execute_result"
    },
    {
     "data": {
      "image/png": "[encoded data removed]",
      "text/plain": [
       "<Figure size 640x480 with 1 Axes>"
      ]
     },
     "metadata": {},
     "output_type": "display_data"
    }
   ],
   "source": [
    "dfRev['sentiment_label'].value_counts().plot(kind='pie', autopct= '%1.0f%%')"
   ]
  },
  {
   "cell_type": "code",
   "execution_count": 12,
   "id": "d0c31ee5",
   "metadata": {},
   "outputs": [
    {
     "data": {
      "text/plain": [
       "review_text        0\n",
       "sentiment_label    0\n",
       "review_id          0\n",
       "customer_id        0\n",
       "dtype: int64"
      ]
     },
     "execution_count": 12,
     "metadata": {},
     "output_type": "execute_result"
    }
   ],
   "source": [
    "# NA data\n",
    "dfRev.isnull().sum()"
   ]
  },
  {
   "cell_type": "code",
   "execution_count": 13,
   "id": "0dc0336e",
   "metadata": {},
   "outputs": [],
   "source": [
    "# aggregate input and output dataset "
   ]
  },
  {
   "cell_type": "code",
   "execution_count": 14,
   "id": "db5b5759",
   "metadata": {},
   "outputs": [],
   "source": [
    "x = dfRev['review_text']      # input dataset\n",
    "y = dfRev['sentiment_label']  # output dataset"
   ]
  },
  {
   "cell_type": "code",
   "execution_count": 15,
   "id": "cc6be4ca",
   "metadata": {},
   "outputs": [],
   "source": [
    "#  Data Cleaning"
   ]
  },
  {
   "cell_type": "code",
   "execution_count": 16,
   "id": "539c0a23",
   "metadata": {},
   "outputs": [],
   "source": [
    "### Create a function to clean the data"
   ]
  },
  {
   "cell_type": "code",
   "execution_count": 17,
   "id": "720f355b",
   "metadata": {},
   "outputs": [],
   "source": [
    "import string"
   ]
  },
  {
   "cell_type": "code",
   "execution_count": 18,
   "id": "d0f9dd35",
   "metadata": {},
   "outputs": [],
   "source": [
    "punct = string.punctuation"
   ]
  },
  {
   "cell_type": "code",
   "execution_count": 19,
   "id": "fda7fcd1",
   "metadata": {},
   "outputs": [
    {
     "data": {
      "text/plain": [
       "'!\"#$%&\\'()*+,-./:;<=>?@[\\\\]^_`{|}~'"
      ]
     },
     "execution_count": 19,
     "metadata": {},
     "output_type": "execute_result"
    }
   ],
   "source": [
    "punct"
   ]
  },
  {
   "cell_type": "code",
   "execution_count": 20,
   "id": "b788417f",
   "metadata": {},
   "outputs": [],
   "source": [
    "from spacy.lang.en.stop_words import STOP_WORDS"
   ]
  },
  {
   "cell_type": "code",
   "execution_count": 21,
   "id": "737a51db",
   "metadata": {},
   "outputs": [],
   "source": [
    "stopwords = list(STOP_WORDS) # list of stopwords"
   ]
  },
  {
   "cell_type": "code",
   "execution_count": 22,
   "id": "cc2df23a",
   "metadata": {},
   "outputs": [
    {
     "data": {
      "text/plain": [
       "['is',\n",
       " 'please',\n",
       " 'may',\n",
       " 'regarding',\n",
       " 'ca',\n",
       " 'across',\n",
       " 'twenty',\n",
       " 'also',\n",
       " 'herein',\n",
       " 'thereby',\n",
       " 'else',\n",
       " 'along',\n",
       " 'cannot',\n",
       " 'just',\n",
       " 'only',\n",
       " 'sixty',\n",
       " 'toward',\n",
       " 'towards',\n",
       " 'already',\n",
       " 'elsewhere',\n",
       " 'too',\n",
       " 'full',\n",
       " 'sometimes',\n",
       " 'yours',\n",
       " 'everyone',\n",
       " 'now',\n",
       " 'why',\n",
       " 'latterly',\n",
       " 'several',\n",
       " 'about',\n",
       " 'ours',\n",
       " 'whereas',\n",
       " 'does',\n",
       " 'and',\n",
       " 'someone',\n",
       " 'upon',\n",
       " 'twelve',\n",
       " 'nevertheless',\n",
       " 'same',\n",
       " 'empty',\n",
       " 'among',\n",
       " 'two',\n",
       " 'within',\n",
       " 'by',\n",
       " 'yet',\n",
       " 'serious',\n",
       " 'everything',\n",
       " 'out',\n",
       " 'below',\n",
       " 'make',\n",
       " 'whereby',\n",
       " 'take',\n",
       " 'side',\n",
       " 'become',\n",
       " 'others',\n",
       " 'i',\n",
       " 'although',\n",
       " 'might',\n",
       " 'over',\n",
       " 'wherever',\n",
       " 'moreover',\n",
       " 'whenever',\n",
       " 'n‘t',\n",
       " 'nine',\n",
       " 'been',\n",
       " 'various',\n",
       " 'enough',\n",
       " '’re',\n",
       " 'some',\n",
       " 'formerly',\n",
       " 'not',\n",
       " 'herself',\n",
       " 'therefore',\n",
       " 'least',\n",
       " 'afterwards',\n",
       " 'sometime',\n",
       " 'well',\n",
       " 'throughout',\n",
       " 'none',\n",
       " 'that',\n",
       " 'are',\n",
       " 'bottom',\n",
       " 'could',\n",
       " 'whither',\n",
       " 'once',\n",
       " 'top',\n",
       " 'say',\n",
       " 'such',\n",
       " 'whence',\n",
       " 'we',\n",
       " 'at',\n",
       " 'beside',\n",
       " 'yourself',\n",
       " 'the',\n",
       " 'another',\n",
       " '’ll',\n",
       " 'four',\n",
       " 'always',\n",
       " 'anyhow',\n",
       " '’s',\n",
       " 'though',\n",
       " 'move',\n",
       " 'from',\n",
       " 'still',\n",
       " 'thru',\n",
       " 'through',\n",
       " 'used',\n",
       " 'thereupon',\n",
       " 'n’t',\n",
       " 'meanwhile',\n",
       " 'our',\n",
       " 'nothing',\n",
       " 'you',\n",
       " 'otherwise',\n",
       " 'namely',\n",
       " 'unless',\n",
       " 'whose',\n",
       " 'beyond',\n",
       " 'doing',\n",
       " 'was',\n",
       " 'seems',\n",
       " '‘d',\n",
       " 'they',\n",
       " 'no',\n",
       " '’d',\n",
       " 'whole',\n",
       " 'using',\n",
       " 'these',\n",
       " 'has',\n",
       " 'if',\n",
       " 'many',\n",
       " 'would',\n",
       " 'put',\n",
       " 'fifteen',\n",
       " 'mine',\n",
       " \"'ve\",\n",
       " 'becoming',\n",
       " 'must',\n",
       " 'an',\n",
       " 'really',\n",
       " 'most',\n",
       " 'five',\n",
       " 'each',\n",
       " 'so',\n",
       " 'six',\n",
       " 'former',\n",
       " 'nor',\n",
       " 'quite',\n",
       " 'hence',\n",
       " 'itself',\n",
       " 'hereafter',\n",
       " 'his',\n",
       " 'wherein',\n",
       " 'alone',\n",
       " 'last',\n",
       " 'ten',\n",
       " 'any',\n",
       " 'everywhere',\n",
       " 'around',\n",
       " 'seem',\n",
       " 'third',\n",
       " 'amount',\n",
       " 'call',\n",
       " 'above',\n",
       " 'every',\n",
       " 'my',\n",
       " 'during',\n",
       " 'done',\n",
       " 'besides',\n",
       " 'thereafter',\n",
       " 'being',\n",
       " '‘ll',\n",
       " 'almost',\n",
       " 'in',\n",
       " '‘s',\n",
       " 'since',\n",
       " 'anything',\n",
       " 'whoever',\n",
       " 'becomes',\n",
       " 'forty',\n",
       " 'anywhere',\n",
       " 'again',\n",
       " 'front',\n",
       " 'where',\n",
       " \"'s\",\n",
       " 'down',\n",
       " 'either',\n",
       " 'show',\n",
       " 'part',\n",
       " 'those',\n",
       " 'ever',\n",
       " 'it',\n",
       " 'other',\n",
       " 'even',\n",
       " 'its',\n",
       " 'be',\n",
       " 'hundred',\n",
       " 'more',\n",
       " 'into',\n",
       " 'nowhere',\n",
       " '’m',\n",
       " 'due',\n",
       " \"'d\",\n",
       " 'he',\n",
       " 'both',\n",
       " 'am',\n",
       " 'something',\n",
       " 'their',\n",
       " 'can',\n",
       " 'here',\n",
       " 'what',\n",
       " 'per',\n",
       " 'should',\n",
       " 'than',\n",
       " \"n't\",\n",
       " 'whereupon',\n",
       " \"'m\",\n",
       " 'this',\n",
       " 'nobody',\n",
       " 'me',\n",
       " 'keep',\n",
       " 'of',\n",
       " 'mostly',\n",
       " 'whom',\n",
       " 'had',\n",
       " 'themselves',\n",
       " 'before',\n",
       " 'eight',\n",
       " '‘re',\n",
       " 'them',\n",
       " 'when',\n",
       " 'seemed',\n",
       " 'fifty',\n",
       " 'hereupon',\n",
       " 'first',\n",
       " 'very',\n",
       " 'own',\n",
       " 'eleven',\n",
       " 'then',\n",
       " 'who',\n",
       " 'anyway',\n",
       " 'beforehand',\n",
       " 'hers',\n",
       " 'with',\n",
       " 'name',\n",
       " 're',\n",
       " 'off',\n",
       " '‘m',\n",
       " 'few',\n",
       " 'seeming',\n",
       " 'never',\n",
       " 'thus',\n",
       " 'latter',\n",
       " 'go',\n",
       " 'somewhere',\n",
       " 'a',\n",
       " 'there',\n",
       " 'up',\n",
       " 'behind',\n",
       " 'much',\n",
       " 'noone',\n",
       " '’ve',\n",
       " 'your',\n",
       " 'anyone',\n",
       " 'all',\n",
       " 'for',\n",
       " 'therein',\n",
       " 'hereby',\n",
       " 'one',\n",
       " 'whether',\n",
       " 'further',\n",
       " 'how',\n",
       " 'while',\n",
       " 'us',\n",
       " '‘ve',\n",
       " 'her',\n",
       " 'made',\n",
       " 'or',\n",
       " 'became',\n",
       " 'somehow',\n",
       " 'yourselves',\n",
       " 'together',\n",
       " 'myself',\n",
       " 'did',\n",
       " 'perhaps',\n",
       " 'rather',\n",
       " 'after',\n",
       " 'ourselves',\n",
       " 'next',\n",
       " 'whatever',\n",
       " 'without',\n",
       " 'between',\n",
       " 'until',\n",
       " 'him',\n",
       " 'do',\n",
       " 'were',\n",
       " 'give',\n",
       " 'however',\n",
       " 'have',\n",
       " 'will',\n",
       " 'whereafter',\n",
       " \"'ll\",\n",
       " 'neither',\n",
       " 'onto',\n",
       " 'she',\n",
       " 'indeed',\n",
       " 'as',\n",
       " 'back',\n",
       " 'less',\n",
       " 'which',\n",
       " 'via',\n",
       " 'because',\n",
       " 'amongst',\n",
       " 'but',\n",
       " \"'re\",\n",
       " 'himself',\n",
       " 'see',\n",
       " 'often',\n",
       " 'under',\n",
       " 'except',\n",
       " 'to',\n",
       " 'three',\n",
       " 'on',\n",
       " 'thence',\n",
       " 'against',\n",
       " 'get']"
      ]
     },
     "execution_count": 22,
     "metadata": {},
     "output_type": "execute_result"
    }
   ],
   "source": [
    "stopwords"
   ]
  },
  {
   "cell_type": "code",
   "execution_count": null,
   "id": "e8fc1d76",
   "metadata": {},
   "outputs": [],
   "source": [
    "# creating a function for data cleaning"
   ]
  },
  {
   "cell_type": "code",
   "execution_count": 23,
   "id": "52f7c693",
   "metadata": {},
   "outputs": [],
   "source": [
    "def text_data_cleaning(sentence):\n",
    "  doc = nlp(sentence)\n",
    "\n",
    "  tokens = [] # list of tokens\n",
    "  for token in doc:\n",
    "    if token.lemma_ != \"-PRON-\":\n",
    "      temp = token.lemma_.lower().strip()\n",
    "    else:\n",
    "      temp = token.lower_\n",
    "    tokens.append(temp)\n",
    " \n",
    "  cleaned_tokens = []\n",
    "  for token in tokens:\n",
    "    if token not in stopwords and token not in punct:\n",
    "      cleaned_tokens.append(token)\n",
    "  return cleaned_tokens"
   ]
  },
  {
   "cell_type": "code",
   "execution_count": 24,
   "id": "159a1d73",
   "metadata": {},
   "outputs": [],
   "source": [
    "# Apply text_data_cleaning function on the 'review_text' column\n",
    "\n",
    "dfRev['text_data_cleaning'] = dfRev['review_text'].apply(text_data_cleaning)"
   ]
  },
  {
   "cell_type": "code",
   "execution_count": 25,
   "id": "3e7bda8f",
   "metadata": {},
   "outputs": [
    {
     "data": {
      "text/html": [
       "<div>\n",
       "<style scoped>\n",
       "    .dataframe tbody tr th:only-of-type {\n",
       "        vertical-align: middle;\n",
       "    }\n",
       "\n",
       "    .dataframe tbody tr th {\n",
       "        vertical-align: top;\n",
       "    }\n",
       "\n",
       "    .dataframe thead th {\n",
       "        text-align: right;\n",
       "    }\n",
       "</style>\n",
       "<table border=\"1\" class=\"dataframe\">\n",
       "  <thead>\n",
       "    <tr style=\"text-align: right;\">\n",
       "      <th></th>\n",
       "      <th>review_text</th>\n",
       "      <th>sentiment_label</th>\n",
       "      <th>review_id</th>\n",
       "      <th>customer_id</th>\n",
       "      <th>text_data_cleaning</th>\n",
       "    </tr>\n",
       "  </thead>\n",
       "  <tbody>\n",
       "    <tr>\n",
       "      <th>0</th>\n",
       "      <td>best coffee from green mountain so far i recom...</td>\n",
       "      <td>positive</td>\n",
       "      <td>16434</td>\n",
       "      <td>7821</td>\n",
       "      <td>[good, coffee, green, mountain, far, recomend,...</td>\n",
       "    </tr>\n",
       "    <tr>\n",
       "      <th>1</th>\n",
       "      <td>My vet told me to have my dog get these to hel...</td>\n",
       "      <td>positive</td>\n",
       "      <td>21485</td>\n",
       "      <td>246969</td>\n",
       "      <td>[vet, tell, dog, help, tooth, love]</td>\n",
       "    </tr>\n",
       "    <tr>\n",
       "      <th>2</th>\n",
       "      <td>i have not gotten my order or heard anything f...</td>\n",
       "      <td>negative</td>\n",
       "      <td>104035</td>\n",
       "      <td>298715</td>\n",
       "      <td>[order, hear, seller, send, 2, email]</td>\n",
       "    </tr>\n",
       "    <tr>\n",
       "      <th>3</th>\n",
       "      <td>No bitter aftertaste no stomach burning after ...</td>\n",
       "      <td>positive</td>\n",
       "      <td>115260</td>\n",
       "      <td>406505</td>\n",
       "      <td>[bitter, aftertaste, stomach, burn, drink, gre...</td>\n",
       "    </tr>\n",
       "    <tr>\n",
       "      <th>4</th>\n",
       "      <td>I have purchase this coffee several times my h...</td>\n",
       "      <td>positive</td>\n",
       "      <td>9418</td>\n",
       "      <td>693062</td>\n",
       "      <td>[purchase, coffee, time, husband, great, taste...</td>\n",
       "    </tr>\n",
       "  </tbody>\n",
       "</table>\n",
       "</div>"
      ],
      "text/plain": [
       "                                         review_text sentiment_label  \\\n",
       "0  best coffee from green mountain so far i recom...        positive   \n",
       "1  My vet told me to have my dog get these to hel...        positive   \n",
       "2  i have not gotten my order or heard anything f...        negative   \n",
       "3  No bitter aftertaste no stomach burning after ...        positive   \n",
       "4  I have purchase this coffee several times my h...        positive   \n",
       "\n",
       "   review_id  customer_id                                 text_data_cleaning  \n",
       "0      16434         7821  [good, coffee, green, mountain, far, recomend,...  \n",
       "1      21485       246969                [vet, tell, dog, help, tooth, love]  \n",
       "2     104035       298715              [order, hear, seller, send, 2, email]  \n",
       "3     115260       406505  [bitter, aftertaste, stomach, burn, drink, gre...  \n",
       "4       9418       693062  [purchase, coffee, time, husband, great, taste...  "
      ]
     },
     "execution_count": 25,
     "metadata": {},
     "output_type": "execute_result"
    }
   ],
   "source": [
    "dfRev.head()"
   ]
  },
  {
   "cell_type": "code",
   "execution_count": 26,
   "id": "91ddf69b",
   "metadata": {},
   "outputs": [
    {
     "data": {
      "text/plain": [
       "'i have not gotten my order or heard anything from the seller even after sending out 2 emails'"
      ]
     },
     "execution_count": 26,
     "metadata": {},
     "output_type": "execute_result"
    }
   ],
   "source": [
    "dfRev['review_text'][2]"
   ]
  },
  {
   "cell_type": "code",
   "execution_count": 27,
   "id": "b0c4ef77",
   "metadata": {},
   "outputs": [],
   "source": [
    "### Vectorization Feature Engineering (TF-IDF)"
   ]
  },
  {
   "cell_type": "code",
   "execution_count": 28,
   "id": "19fd8818",
   "metadata": {},
   "outputs": [],
   "source": [
    "from sklearn.svm import LinearSVC\n",
    "from sklearn.feature_extraction.text import TfidfVectorizer\n",
    "from sklearn.pipeline import Pipeline"
   ]
  },
  {
   "cell_type": "code",
   "execution_count": 29,
   "id": "8a1ab594",
   "metadata": {},
   "outputs": [],
   "source": [
    "tfidf = TfidfVectorizer(tokenizer=text_data_cleaning)\n",
    "# tokenizer=text_data_cleaning, tokenization will be done according to this function"
   ]
  },
  {
   "cell_type": "code",
   "execution_count": 30,
   "id": "1bef7565",
   "metadata": {},
   "outputs": [],
   "source": [
    "classifier = LinearSVC()"
   ]
  },
  {
   "cell_type": "code",
   "execution_count": 31,
   "id": "55bc719b",
   "metadata": {},
   "outputs": [],
   "source": [
    "#Train the model\n",
    "#Splitting the dataset into the Train and Test set"
   ]
  },
  {
   "cell_type": "code",
   "execution_count": 32,
   "id": "d9597155",
   "metadata": {},
   "outputs": [],
   "source": [
    "from sklearn.model_selection import train_test_split\n",
    "x_train, x_test, y_train, y_test = train_test_split(x, y, test_size = 0.2, random_state = 0)"
   ]
  },
  {
   "cell_type": "code",
   "execution_count": 33,
   "id": "bb6e1c67",
   "metadata": {},
   "outputs": [
    {
     "data": {
      "text/plain": [
       "((45,), (12,))"
      ]
     },
     "execution_count": 33,
     "metadata": {},
     "output_type": "execute_result"
    }
   ],
   "source": [
    "x_train.shape, x_test.shape\n",
    "# 2198 samples in training dataset and 550 in test dataset"
   ]
  },
  {
   "cell_type": "code",
   "execution_count": 34,
   "id": "822338dc",
   "metadata": {},
   "outputs": [
    {
     "data": {
      "text/plain": [
       "29    We love this Stevia as it is one of the only o...\n",
       "50    I was looking for a smooth robust coffee and I...\n",
       "32    I bought this item for a christmas gift for my...\n",
       "40    it is great to have sugar free koolaid availab...\n",
       "37    i love tazo teas i dont really like friuty one...\n",
       "Name: review_text, dtype: object"
      ]
     },
     "execution_count": 34,
     "metadata": {},
     "output_type": "execute_result"
    }
   ],
   "source": [
    "x_train.head()"
   ]
  },
  {
   "cell_type": "code",
   "execution_count": 35,
   "id": "fd58b0db",
   "metadata": {},
   "outputs": [],
   "source": [
    "### Fit the x_train and y_train"
   ]
  },
  {
   "cell_type": "code",
   "execution_count": 36,
   "id": "88c2fdb4",
   "metadata": {},
   "outputs": [],
   "source": [
    "clf = Pipeline([('tfidf',tfidf), ('clf',classifier)])\n",
    "# it will first do vectorization and then it will do classification"
   ]
  },
  {
   "cell_type": "code",
   "execution_count": 37,
   "id": "49f7bb65",
   "metadata": {},
   "outputs": [
    {
     "name": "stderr",
     "output_type": "stream",
     "text": [
      "C:\\Users\\Admin\\anaconda3\\lib\\site-packages\\sklearn\\feature_extraction\\text.py:528: UserWarning: The parameter 'token_pattern' will not be used since 'tokenizer' is not None'\n",
      "  warnings.warn(\n"
     ]
    },
    {
     "data": {
      "text/html": [
       "<style>#sk-container-id-1 {color: black;background-color: white;}#sk-container-id-1 pre{padding: 0;}#sk-container-id-1 div.sk-toggleable {background-color: white;}#sk-container-id-1 label.sk-toggleable__label {cursor: pointer;display: block;width: 100%;margin-bottom: 0;padding: 0.3em;box-sizing: border-box;text-align: center;}#sk-container-id-1 label.sk-toggleable__label-arrow:before {content: \"▸\";float: left;margin-right: 0.25em;color: #696969;}#sk-container-id-1 label.sk-toggleable__label-arrow:hover:before {color: black;}#sk-container-id-1 div.sk-estimator:hover label.sk-toggleable__label-arrow:before {color: black;}#sk-container-id-1 div.sk-toggleable__content {max-height: 0;max-width: 0;overflow: hidden;text-align: left;background-color: #f0f8ff;}#sk-container-id-1 div.sk-toggleable__content pre {margin: 0.2em;color: black;border-radius: 0.25em;background-color: #f0f8ff;}#sk-container-id-1 input.sk-toggleable__control:checked~div.sk-toggleable__content {max-height: 200px;max-width: 100%;overflow: auto;}#sk-container-id-1 input.sk-toggleable__control:checked~label.sk-toggleable__label-arrow:before {content: \"▾\";}#sk-container-id-1 div.sk-estimator input.sk-toggleable__control:checked~label.sk-toggleable__label {background-color: #d4ebff;}#sk-container-id-1 div.sk-label input.sk-toggleable__control:checked~label.sk-toggleable__label {background-color: #d4ebff;}#sk-container-id-1 input.sk-hidden--visually {border: 0;clip: rect(1px 1px 1px 1px);clip: rect(1px, 1px, 1px, 1px);height: 1px;margin: -1px;overflow: hidden;padding: 0;position: absolute;width: 1px;}#sk-container-id-1 div.sk-estimator {font-family: monospace;background-color: #f0f8ff;border: 1px dotted black;border-radius: 0.25em;box-sizing: border-box;margin-bottom: 0.5em;}#sk-container-id-1 div.sk-estimator:hover {background-color: #d4ebff;}#sk-container-id-1 div.sk-parallel-item::after {content: \"\";width: 100%;border-bottom: 1px solid gray;flex-grow: 1;}#sk-container-id-1 div.sk-label:hover label.sk-toggleable__label {background-color: #d4ebff;}#sk-container-id-1 div.sk-serial::before {content: \"\";position: absolute;border-left: 1px solid gray;box-sizing: border-box;top: 0;bottom: 0;left: 50%;z-index: 0;}#sk-container-id-1 div.sk-serial {display: flex;flex-direction: column;align-items: center;background-color: white;padding-right: 0.2em;padding-left: 0.2em;position: relative;}#sk-container-id-1 div.sk-item {position: relative;z-index: 1;}#sk-container-id-1 div.sk-parallel {display: flex;align-items: stretch;justify-content: center;background-color: white;position: relative;}#sk-container-id-1 div.sk-item::before, #sk-container-id-1 div.sk-parallel-item::before {content: \"\";position: absolute;border-left: 1px solid gray;box-sizing: border-box;top: 0;bottom: 0;left: 50%;z-index: -1;}#sk-container-id-1 div.sk-parallel-item {display: flex;flex-direction: column;z-index: 1;position: relative;background-color: white;}#sk-container-id-1 div.sk-parallel-item:first-child::after {align-self: flex-end;width: 50%;}#sk-container-id-1 div.sk-parallel-item:last-child::after {align-self: flex-start;width: 50%;}#sk-container-id-1 div.sk-parallel-item:only-child::after {width: 0;}#sk-container-id-1 div.sk-dashed-wrapped {border: 1px dashed gray;margin: 0 0.4em 0.5em 0.4em;box-sizing: border-box;padding-bottom: 0.4em;background-color: white;}#sk-container-id-1 div.sk-label label {font-family: monospace;font-weight: bold;display: inline-block;line-height: 1.2em;}#sk-container-id-1 div.sk-label-container {text-align: center;}#sk-container-id-1 div.sk-container {/* jupyter's `normalize.less` sets `[hidden] { display: none; }` but bootstrap.min.css set `[hidden] { display: none !important; }` so we also need the `!important` here to be able to override the default hidden behavior on the sphinx rendered scikit-learn.org. See: https://github.com/scikit-learn/scikit-learn/issues/21755 */display: inline-block !important;position: relative;}#sk-container-id-1 div.sk-text-repr-fallback {display: none;}</style><div id=\"sk-container-id-1\" class=\"sk-top-container\"><div class=\"sk-text-repr-fallback\"><pre>Pipeline(steps=[(&#x27;tfidf&#x27;,\n",
       "                 TfidfVectorizer(tokenizer=&lt;function text_data_cleaning at 0x000001AE463B2290&gt;)),\n",
       "                (&#x27;clf&#x27;, LinearSVC())])</pre><b>In a Jupyter environment, please rerun this cell to show the HTML representation or trust the notebook. <br />On GitHub, the HTML representation is unable to render, please try loading this page with nbviewer.org.</b></div><div class=\"sk-container\" hidden><div class=\"sk-item sk-dashed-wrapped\"><div class=\"sk-label-container\"><div class=\"sk-label sk-toggleable\"><input class=\"sk-toggleable__control sk-hidden--visually\" id=\"sk-estimator-id-1\" type=\"checkbox\" ><label for=\"sk-estimator-id-1\" class=\"sk-toggleable__label sk-toggleable__label-arrow\">Pipeline</label><div class=\"sk-toggleable__content\"><pre>Pipeline(steps=[(&#x27;tfidf&#x27;,\n",
       "                 TfidfVectorizer(tokenizer=&lt;function text_data_cleaning at 0x000001AE463B2290&gt;)),\n",
       "                (&#x27;clf&#x27;, LinearSVC())])</pre></div></div></div><div class=\"sk-serial\"><div class=\"sk-item\"><div class=\"sk-estimator sk-toggleable\"><input class=\"sk-toggleable__control sk-hidden--visually\" id=\"sk-estimator-id-2\" type=\"checkbox\" ><label for=\"sk-estimator-id-2\" class=\"sk-toggleable__label sk-toggleable__label-arrow\">TfidfVectorizer</label><div class=\"sk-toggleable__content\"><pre>TfidfVectorizer(tokenizer=&lt;function text_data_cleaning at 0x000001AE463B2290&gt;)</pre></div></div></div><div class=\"sk-item\"><div class=\"sk-estimator sk-toggleable\"><input class=\"sk-toggleable__control sk-hidden--visually\" id=\"sk-estimator-id-3\" type=\"checkbox\" ><label for=\"sk-estimator-id-3\" class=\"sk-toggleable__label sk-toggleable__label-arrow\">LinearSVC</label><div class=\"sk-toggleable__content\"><pre>LinearSVC()</pre></div></div></div></div></div></div></div>"
      ],
      "text/plain": [
       "Pipeline(steps=[('tfidf',\n",
       "                 TfidfVectorizer(tokenizer=<function text_data_cleaning at 0x000001AE463B2290>)),\n",
       "                ('clf', LinearSVC())])"
      ]
     },
     "execution_count": 37,
     "metadata": {},
     "output_type": "execute_result"
    }
   ],
   "source": [
    "clf.fit(x_train, y_train)"
   ]
  },
  {
   "cell_type": "code",
   "execution_count": null,
   "id": "f123b999",
   "metadata": {},
   "outputs": [],
   "source": [
    "# in this we don't need to prepare the dataset for testing(x_test)"
   ]
  },
  {
   "cell_type": "code",
   "execution_count": null,
   "id": "43c7c235",
   "metadata": {},
   "outputs": [],
   "source": [
    "### Predict the Test set results"
   ]
  },
  {
   "cell_type": "code",
   "execution_count": 38,
   "id": "4da930a8",
   "metadata": {},
   "outputs": [],
   "source": [
    "from sklearn.metrics import accuracy_score, classification_report, confusion_matrix"
   ]
  },
  {
   "cell_type": "code",
   "execution_count": 39,
   "id": "c4051636",
   "metadata": {},
   "outputs": [],
   "source": [
    "y_pred = clf.predict(x_test)"
   ]
  },
  {
   "cell_type": "code",
   "execution_count": 40,
   "id": "2672e2d9",
   "metadata": {},
   "outputs": [
    {
     "data": {
      "text/plain": [
       "array([[1, 0, 1],\n",
       "       [0, 0, 3],\n",
       "       [0, 0, 7]], dtype=int64)"
      ]
     },
     "execution_count": 40,
     "metadata": {},
     "output_type": "execute_result"
    }
   ],
   "source": [
    "# confusion_matrix\n",
    "confusion_matrix(y_test, y_pred)"
   ]
  },
  {
   "cell_type": "code",
   "execution_count": 41,
   "id": "b50f6e57",
   "metadata": {},
   "outputs": [
    {
     "name": "stdout",
     "output_type": "stream",
     "text": [
      "              precision    recall  f1-score   support\n",
      "\n",
      "    negative       1.00      0.50      0.67         2\n",
      "     neutral       0.00      0.00      0.00         3\n",
      "    positive       0.64      1.00      0.78         7\n",
      "\n",
      "    accuracy                           0.67        12\n",
      "   macro avg       0.55      0.50      0.48        12\n",
      "weighted avg       0.54      0.67      0.56        12\n",
      "\n"
     ]
    },
    {
     "name": "stderr",
     "output_type": "stream",
     "text": [
      "C:\\Users\\Admin\\anaconda3\\lib\\site-packages\\sklearn\\metrics\\_classification.py:1344: UndefinedMetricWarning: Precision and F-score are ill-defined and being set to 0.0 in labels with no predicted samples. Use `zero_division` parameter to control this behavior.\n",
      "  _warn_prf(average, modifier, msg_start, len(result))\n",
      "C:\\Users\\Admin\\anaconda3\\lib\\site-packages\\sklearn\\metrics\\_classification.py:1344: UndefinedMetricWarning: Precision and F-score are ill-defined and being set to 0.0 in labels with no predicted samples. Use `zero_division` parameter to control this behavior.\n",
      "  _warn_prf(average, modifier, msg_start, len(result))\n",
      "C:\\Users\\Admin\\anaconda3\\lib\\site-packages\\sklearn\\metrics\\_classification.py:1344: UndefinedMetricWarning: Precision and F-score are ill-defined and being set to 0.0 in labels with no predicted samples. Use `zero_division` parameter to control this behavior.\n",
      "  _warn_prf(average, modifier, msg_start, len(result))\n"
     ]
    }
   ],
   "source": [
    "# classification_report\n",
    "print(classification_report(y_test, y_pred))\n",
    "# we are getting almost 67% accuracy"
   ]
  },
  {
   "cell_type": "code",
   "execution_count": 42,
   "id": "0fce926d",
   "metadata": {},
   "outputs": [
    {
     "data": {
      "text/plain": [
       "0.6666666666666666"
      ]
     },
     "execution_count": 42,
     "metadata": {},
     "output_type": "execute_result"
    }
   ],
   "source": [
    "accuracy_score(y_test, y_pred)\n",
    "# 67% accuracy"
   ]
  },
  {
   "cell_type": "code",
   "execution_count": 43,
   "id": "4a24f88a",
   "metadata": {},
   "outputs": [
    {
     "data": {
      "text/plain": [
       "array(['negative'], dtype=object)"
      ]
     },
     "execution_count": 43,
     "metadata": {},
     "output_type": "execute_result"
    }
   ],
   "source": [
    "clf.predict([\"this coffee has a very funny taste to it not good you would think wolfgang it would be good dont buy this coffee this is a review of 6 people there are 6 people in my shop we all hate it not good\"])\n",
    "# output is negative, that means review is positive"
   ]
  },
  {
   "cell_type": "code",
   "execution_count": 44,
   "id": "afb7848c",
   "metadata": {},
   "outputs": [
    {
     "data": {
      "text/plain": [
       "array(['positive'], dtype=object)"
      ]
     },
     "execution_count": 44,
     "metadata": {},
     "output_type": "execute_result"
    }
   ],
   "source": [
    "clf.predict([\"i have not gotten my order or heard anything from the seller even after sending out 2 emails\"])\n",
    "# output is positive, that means review is Negative"
   ]
  },
  {
   "cell_type": "code",
   "execution_count": null,
   "id": "cb5d10e6",
   "metadata": {},
   "outputs": [],
   "source": [
    "# this coffee has a very funny taste to it not good you would think wolfgang it would be good dont buy this coffee this is a review of 6 people there are 6 people in my shop we all hate it not good"
   ]
  },
  {
   "cell_type": "code",
   "execution_count": 366,
   "id": "a65067bb",
   "metadata": {},
   "outputs": [],
   "source": [
    "# i have not gotten my order or heard anything from the seller even after sending out 2 emails"
   ]
  },
  {
   "cell_type": "code",
   "execution_count": null,
   "id": "8858f2d7",
   "metadata": {},
   "outputs": [],
   "source": [
    "////////////////////////////////////////////////////////////////////////////////////////////////////////////////////////////////"
   ]
  }
 ],
 "metadata": {
  "kernelspec": {
   "display_name": "Python 3 (ipykernel)",
   "language": "python",
   "name": "python3"
  },
  "language_info": {
   "codemirror_mode": {
    "name": "ipython",
    "version": 3
   },
   "file_extension": ".py",
   "mimetype": "text/x-python",
   "name": "python",
   "nbconvert_exporter": "python",
   "pygments_lexer": "ipython3",
   "version": "3.10.9"
  }
 },
 "nbformat": 4,
 "nbformat_minor": 5
}
