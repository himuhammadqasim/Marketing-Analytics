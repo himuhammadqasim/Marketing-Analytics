{
 "cells": [
  {
   "cell_type": "code",
   "execution_count": null,
   "id": "3284706e",
   "metadata": {},
   "outputs": [],
   "source": [
    "# Core RFM + Churn Analysis"
   ]
  },
  {
   "cell_type": "code",
   "execution_count": 29,
   "id": "46b7aa95",
   "metadata": {},
   "outputs": [],
   "source": [
    "import pandas as pd\n",
    "import matplotlib.pyplot as plt\n",
    "import datetime\n",
    "import squarify\n",
    "import seaborn as sns"
   ]
  },
  {
   "cell_type": "code",
   "execution_count": 2,
   "id": "66f9d015",
   "metadata": {},
   "outputs": [],
   "source": [
    "from sklearn.metrics import silhouette_score"
   ]
  },
  {
   "cell_type": "code",
   "execution_count": 3,
   "id": "c9b9f906",
   "metadata": {},
   "outputs": [],
   "source": [
    "# Merged Dataframe"
   ]
  },
  {
   "cell_type": "code",
   "execution_count": 4,
   "id": "bb6ace70",
   "metadata": {},
   "outputs": [],
   "source": [
    "df = pd.read_csv('dataframe.csv')"
   ]
  },
  {
   "cell_type": "code",
   "execution_count": 5,
   "id": "56376b2c",
   "metadata": {},
   "outputs": [],
   "source": [
    "# Drop rows where direction = -1\n",
    "df = df[df['direction'] != -1].copy()"
   ]
  },
  {
   "cell_type": "code",
   "execution_count": 7,
   "id": "5a26edaa",
   "metadata": {},
   "outputs": [],
   "source": [
    "df.drop('Unnamed: 0',axis = 1, inplace = True)"
   ]
  },
  {
   "cell_type": "code",
   "execution_count": 9,
   "id": "980741cf",
   "metadata": {},
   "outputs": [
    {
     "data": {
      "text/html": [
       "<div>\n",
       "<style scoped>\n",
       "    .dataframe tbody tr th:only-of-type {\n",
       "        vertical-align: middle;\n",
       "    }\n",
       "\n",
       "    .dataframe tbody tr th {\n",
       "        vertical-align: top;\n",
       "    }\n",
       "\n",
       "    .dataframe thead th {\n",
       "        text-align: right;\n",
       "    }\n",
       "</style>\n",
       "<table border=\"1\" class=\"dataframe\">\n",
       "  <thead>\n",
       "    <tr style=\"text-align: right;\">\n",
       "      <th></th>\n",
       "      <th>address_id</th>\n",
       "      <th>postal_code</th>\n",
       "      <th>district</th>\n",
       "      <th>region</th>\n",
       "      <th>customer_id</th>\n",
       "      <th>birthdate</th>\n",
       "      <th>gender</th>\n",
       "      <th>job_type</th>\n",
       "      <th>email_provider</th>\n",
       "      <th>flag_phone_provided</th>\n",
       "      <th>...</th>\n",
       "      <th>loyatlty_status</th>\n",
       "      <th>activation_date</th>\n",
       "      <th>order_id</th>\n",
       "      <th>store_id</th>\n",
       "      <th>product_id</th>\n",
       "      <th>direction</th>\n",
       "      <th>gross_price</th>\n",
       "      <th>price_reduction</th>\n",
       "      <th>purchase_datetime</th>\n",
       "      <th>product_class</th>\n",
       "    </tr>\n",
       "  </thead>\n",
       "  <tbody>\n",
       "    <tr>\n",
       "      <th>0</th>\n",
       "      <td>6962</td>\n",
       "      <td>29121</td>\n",
       "      <td>PC</td>\n",
       "      <td>EMILIA ROMAGNA</td>\n",
       "      <td>7821</td>\n",
       "      <td>1984-10-03</td>\n",
       "      <td>M</td>\n",
       "      <td>0</td>\n",
       "      <td>gmail.com</td>\n",
       "      <td>1.0</td>\n",
       "      <td>...</td>\n",
       "      <td>1</td>\n",
       "      <td>2022-04-06</td>\n",
       "      <td>cff01b663e65a4a426add3d3591dd113</td>\n",
       "      <td>11</td>\n",
       "      <td>33700716</td>\n",
       "      <td>1</td>\n",
       "      <td>0.2</td>\n",
       "      <td>0.00</td>\n",
       "      <td>2022-08-23 13:13:03</td>\n",
       "      <td>10</td>\n",
       "    </tr>\n",
       "    <tr>\n",
       "      <th>1</th>\n",
       "      <td>228406</td>\n",
       "      <td>24022</td>\n",
       "      <td>BG</td>\n",
       "      <td>LOMBARDIA</td>\n",
       "      <td>246969</td>\n",
       "      <td>1978-12-27</td>\n",
       "      <td>F</td>\n",
       "      <td>0</td>\n",
       "      <td>personal_mail_provider_7382</td>\n",
       "      <td>1.0</td>\n",
       "      <td>...</td>\n",
       "      <td>1</td>\n",
       "      <td>2022-03-13</td>\n",
       "      <td>8f7735a267cccb1e922a38d31b8f4b0b</td>\n",
       "      <td>40</td>\n",
       "      <td>33700716</td>\n",
       "      <td>1</td>\n",
       "      <td>0.2</td>\n",
       "      <td>0.00</td>\n",
       "      <td>2022-07-21 11:50:07</td>\n",
       "      <td>10</td>\n",
       "    </tr>\n",
       "    <tr>\n",
       "      <th>2</th>\n",
       "      <td>278496</td>\n",
       "      <td>125</td>\n",
       "      <td>RM</td>\n",
       "      <td>LAZIO</td>\n",
       "      <td>298715</td>\n",
       "      <td>1977-04-29</td>\n",
       "      <td>F</td>\n",
       "      <td>0</td>\n",
       "      <td>gmail.com</td>\n",
       "      <td>0.0</td>\n",
       "      <td>...</td>\n",
       "      <td>1</td>\n",
       "      <td>2022-04-08</td>\n",
       "      <td>8025322b509df76b6684eca2d262fde7</td>\n",
       "      <td>39</td>\n",
       "      <td>33700716</td>\n",
       "      <td>1</td>\n",
       "      <td>0.2</td>\n",
       "      <td>0.02</td>\n",
       "      <td>2022-06-03 09:22:35</td>\n",
       "      <td>10</td>\n",
       "    </tr>\n",
       "    <tr>\n",
       "      <th>3</th>\n",
       "      <td>278496</td>\n",
       "      <td>125</td>\n",
       "      <td>RM</td>\n",
       "      <td>LAZIO</td>\n",
       "      <td>298715</td>\n",
       "      <td>1977-04-29</td>\n",
       "      <td>F</td>\n",
       "      <td>0</td>\n",
       "      <td>gmail.com</td>\n",
       "      <td>0.0</td>\n",
       "      <td>...</td>\n",
       "      <td>1</td>\n",
       "      <td>2022-04-08</td>\n",
       "      <td>61b4e60e8f1503508a0f739e43b49df1</td>\n",
       "      <td>39</td>\n",
       "      <td>33700716</td>\n",
       "      <td>1</td>\n",
       "      <td>0.2</td>\n",
       "      <td>0.00</td>\n",
       "      <td>2023-03-28 12:30:35</td>\n",
       "      <td>10</td>\n",
       "    </tr>\n",
       "    <tr>\n",
       "      <th>4</th>\n",
       "      <td>385332</td>\n",
       "      <td>6059</td>\n",
       "      <td>PG</td>\n",
       "      <td>UMBRIA</td>\n",
       "      <td>406505</td>\n",
       "      <td>1976-04-26</td>\n",
       "      <td>F</td>\n",
       "      <td>0</td>\n",
       "      <td>gmail.com</td>\n",
       "      <td>1.0</td>\n",
       "      <td>...</td>\n",
       "      <td>1</td>\n",
       "      <td>2022-06-02</td>\n",
       "      <td>de7f5649c28e00f03cace55339474a35</td>\n",
       "      <td>9</td>\n",
       "      <td>33700716</td>\n",
       "      <td>1</td>\n",
       "      <td>0.2</td>\n",
       "      <td>0.00</td>\n",
       "      <td>2022-08-04 18:25:49</td>\n",
       "      <td>10</td>\n",
       "    </tr>\n",
       "  </tbody>\n",
       "</table>\n",
       "<p>5 rows × 25 columns</p>\n",
       "</div>"
      ],
      "text/plain": [
       "   address_id  postal_code district          region  customer_id   birthdate  \\\n",
       "0        6962        29121       PC  EMILIA ROMAGNA         7821  1984-10-03   \n",
       "1      228406        24022       BG       LOMBARDIA       246969  1978-12-27   \n",
       "2      278496          125       RM           LAZIO       298715  1977-04-29   \n",
       "3      278496          125       RM           LAZIO       298715  1977-04-29   \n",
       "4      385332         6059       PG          UMBRIA       406505  1976-04-26   \n",
       "\n",
       "  gender job_type               email_provider  flag_phone_provided  ...  \\\n",
       "0      M        0                    gmail.com                  1.0  ...   \n",
       "1      F        0  personal_mail_provider_7382                  1.0  ...   \n",
       "2      F        0                    gmail.com                  0.0  ...   \n",
       "3      F        0                    gmail.com                  0.0  ...   \n",
       "4      F        0                    gmail.com                  1.0  ...   \n",
       "\n",
       "   loyatlty_status  activation_date                          order_id  \\\n",
       "0                1       2022-04-06  cff01b663e65a4a426add3d3591dd113   \n",
       "1                1       2022-03-13  8f7735a267cccb1e922a38d31b8f4b0b   \n",
       "2                1       2022-04-08  8025322b509df76b6684eca2d262fde7   \n",
       "3                1       2022-04-08  61b4e60e8f1503508a0f739e43b49df1   \n",
       "4                1       2022-06-02  de7f5649c28e00f03cace55339474a35   \n",
       "\n",
       "   store_id product_id  direction gross_price price_reduction  \\\n",
       "0        11   33700716          1         0.2            0.00   \n",
       "1        40   33700716          1         0.2            0.00   \n",
       "2        39   33700716          1         0.2            0.02   \n",
       "3        39   33700716          1         0.2            0.00   \n",
       "4         9   33700716          1         0.2            0.00   \n",
       "\n",
       "     purchase_datetime  product_class  \n",
       "0  2022-08-23 13:13:03             10  \n",
       "1  2022-07-21 11:50:07             10  \n",
       "2  2022-06-03 09:22:35             10  \n",
       "3  2023-03-28 12:30:35             10  \n",
       "4  2022-08-04 18:25:49             10  \n",
       "\n",
       "[5 rows x 25 columns]"
      ]
     },
     "execution_count": 9,
     "metadata": {},
     "output_type": "execute_result"
    }
   ],
   "source": [
    "df.head()"
   ]
  },
  {
   "cell_type": "code",
   "execution_count": 11,
   "id": "d3d9b6fe",
   "metadata": {},
   "outputs": [
    {
     "data": {
      "text/plain": [
       "(427, 25)"
      ]
     },
     "execution_count": 11,
     "metadata": {},
     "output_type": "execute_result"
    }
   ],
   "source": [
    "df.shape"
   ]
  },
  {
   "cell_type": "code",
   "execution_count": null,
   "id": "8118a043",
   "metadata": {},
   "outputs": [],
   "source": [
    "# Active and Inactive Customers For past 90 days"
   ]
  },
  {
   "cell_type": "code",
   "execution_count": 12,
   "id": "b9847832",
   "metadata": {},
   "outputs": [],
   "source": [
    "import datetime\n",
    "\n",
    "# Set the cutoff date as the current date minus 90 days\n",
    "cutoff_date = datetime.datetime.now() - datetime.timedelta(days=90)\n",
    "# Convert the 'purchase_datetime' column to datetime type\n",
    "df['purchase_datetime'] = pd.to_datetime(df['purchase_datetime'])\n",
    "\n",
    "# Calculate Recency, which represents the number of days since the customer's last purchase\n",
    "recency_data = df.groupby('customer_id')['purchase_datetime'].max().reset_index()\n",
    "recency_data['recency'] = (cutoff_date - recency_data['purchase_datetime']).dt.days\n",
    "recency_data.drop('purchase_datetime', axis=1, inplace=True)"
   ]
  },
  {
   "cell_type": "code",
   "execution_count": 13,
   "id": "7ec58479",
   "metadata": {},
   "outputs": [],
   "source": [
    "# Categorize customers as active or inactive based on the threshold\n",
    "recency_data['status'] = recency_data['recency'].apply(lambda x: 'Active' if x <= 90 else 'Inactive')\n"
   ]
  },
  {
   "cell_type": "code",
   "execution_count": 15,
   "id": "b929fe07",
   "metadata": {},
   "outputs": [
    {
     "data": {
      "text/html": [
       "<div>\n",
       "<style scoped>\n",
       "    .dataframe tbody tr th:only-of-type {\n",
       "        vertical-align: middle;\n",
       "    }\n",
       "\n",
       "    .dataframe tbody tr th {\n",
       "        vertical-align: top;\n",
       "    }\n",
       "\n",
       "    .dataframe thead th {\n",
       "        text-align: right;\n",
       "    }\n",
       "</style>\n",
       "<table border=\"1\" class=\"dataframe\">\n",
       "  <thead>\n",
       "    <tr style=\"text-align: right;\">\n",
       "      <th></th>\n",
       "      <th>customer_id</th>\n",
       "      <th>recency</th>\n",
       "      <th>status</th>\n",
       "    </tr>\n",
       "  </thead>\n",
       "  <tbody>\n",
       "    <tr>\n",
       "      <th>0</th>\n",
       "      <td>658</td>\n",
       "      <td>268</td>\n",
       "      <td>Inactive</td>\n",
       "    </tr>\n",
       "    <tr>\n",
       "      <th>1</th>\n",
       "      <td>2344</td>\n",
       "      <td>3</td>\n",
       "      <td>Active</td>\n",
       "    </tr>\n",
       "    <tr>\n",
       "      <th>2</th>\n",
       "      <td>7821</td>\n",
       "      <td>235</td>\n",
       "      <td>Inactive</td>\n",
       "    </tr>\n",
       "    <tr>\n",
       "      <th>3</th>\n",
       "      <td>20211</td>\n",
       "      <td>-4</td>\n",
       "      <td>Active</td>\n",
       "    </tr>\n",
       "    <tr>\n",
       "      <th>4</th>\n",
       "      <td>34088</td>\n",
       "      <td>23</td>\n",
       "      <td>Active</td>\n",
       "    </tr>\n",
       "  </tbody>\n",
       "</table>\n",
       "</div>"
      ],
      "text/plain": [
       "   customer_id  recency    status\n",
       "0          658      268  Inactive\n",
       "1         2344        3    Active\n",
       "2         7821      235  Inactive\n",
       "3        20211       -4    Active\n",
       "4        34088       23    Active"
      ]
     },
     "execution_count": 15,
     "metadata": {},
     "output_type": "execute_result"
    }
   ],
   "source": [
    "recency_data.head()"
   ]
  },
  {
   "cell_type": "code",
   "execution_count": 18,
   "id": "795b00b4",
   "metadata": {},
   "outputs": [
    {
     "data": {
      "text/plain": [
       "(57, 3)"
      ]
     },
     "execution_count": 18,
     "metadata": {},
     "output_type": "execute_result"
    }
   ],
   "source": [
    "recency_data.shape"
   ]
  },
  {
   "cell_type": "code",
   "execution_count": 19,
   "id": "cae1d545",
   "metadata": {},
   "outputs": [
    {
     "data": {
      "image/png": "[encoded data removed]",
      "text/plain": [
       "<Figure size 640x480 with 1 Axes>"
      ]
     },
     "metadata": {},
     "output_type": "display_data"
    }
   ],
   "source": [
    "# Count the number of active and inactive customers\n",
    "status_counts = recency_data['status'].value_counts()\n",
    "\n",
    "# Create a pie plot\n",
    "plt.pie(status_counts, labels=status_counts.index, autopct='%1.1f%%', startangle=90)\n",
    "\n",
    "# Add a title\n",
    "plt.title('Active vs Inactive Customers')\n",
    "\n",
    "# Display the plot\n",
    "plt.show()"
   ]
  },
  {
   "cell_type": "code",
   "execution_count": 20,
   "id": "66cfbd10",
   "metadata": {},
   "outputs": [],
   "source": [
    "import datetime\n",
    "\n",
    "# Set the cutoff date as the current date minus 90 days\n",
    "cutoff_date = datetime.datetime.now() - datetime.timedelta(days=90)"
   ]
  },
  {
   "cell_type": "code",
   "execution_count": 21,
   "id": "77fa0bda",
   "metadata": {},
   "outputs": [],
   "source": [
    "# Convert the 'purchase_datetime' column to datetime type\n",
    "df['purchase_datetime'] = pd.to_datetime(df['purchase_datetime'])\n",
    "\n",
    "# Calculate Recency, which represents the number of days since the customer's last purchase\n",
    "recency_data = df.groupby('customer_id')['purchase_datetime'].max().reset_index()\n",
    "recency_data['recency'] = (cutoff_date - recency_data['purchase_datetime']).dt.days\n",
    "recency_data.drop('purchase_datetime', axis=1, inplace=True)\n",
    "\n",
    "# Calculate Frequency, which represents the total number of purchases made by each customer\n",
    "frequency_data = df.groupby('customer_id')['purchase_datetime'].count().reset_index()\n",
    "frequency_data.rename(columns={'purchase_datetime': 'frequency'}, inplace=True)\n",
    "\n",
    "# Calculate Monetary, which represents the total spending of each customer\n",
    "monetary_data = df.groupby('customer_id')['gross_price'].sum().reset_index()\n",
    "monetary_data.rename(columns={'gross_price': 'monetary'}, inplace=True)\n",
    "\n",
    "# Merge the Recency, Frequency, and Monetary data\n",
    "rfm_data = pd.merge(recency_data, frequency_data, on='customer_id')\n",
    "rfm_data = pd.merge(rfm_data, monetary_data, on='customer_id')\n",
    "\n",
    "# Assign scores or ranks to each RFM value\n",
    "rfm_data['recency_score'] = pd.qcut(rfm_data['recency'], q=5, labels=False)\n",
    "rfm_data['frequency_score'] = pd.qcut(rfm_data['frequency'], q=5, labels=False, duplicates='drop')\n",
    "rfm_data['monetary_score'] = pd.qcut(rfm_data['monetary'], q=5, labels=False)\n",
    "\n",
    "# Calculate the RFM score by combining the individual scores\n",
    "rfm_data['rfm_score'] = rfm_data['recency_score'] + rfm_data['frequency_score'] + rfm_data['monetary_score']\n"
   ]
  },
  {
   "cell_type": "code",
   "execution_count": 22,
   "id": "77a63a46",
   "metadata": {},
   "outputs": [
    {
     "data": {
      "text/html": [
       "<div>\n",
       "<style scoped>\n",
       "    .dataframe tbody tr th:only-of-type {\n",
       "        vertical-align: middle;\n",
       "    }\n",
       "\n",
       "    .dataframe tbody tr th {\n",
       "        vertical-align: top;\n",
       "    }\n",
       "\n",
       "    .dataframe thead th {\n",
       "        text-align: right;\n",
       "    }\n",
       "</style>\n",
       "<table border=\"1\" class=\"dataframe\">\n",
       "  <thead>\n",
       "    <tr style=\"text-align: right;\">\n",
       "      <th></th>\n",
       "      <th>customer_id</th>\n",
       "      <th>recency</th>\n",
       "      <th>frequency</th>\n",
       "      <th>monetary</th>\n",
       "      <th>recency_score</th>\n",
       "      <th>frequency_score</th>\n",
       "      <th>monetary_score</th>\n",
       "      <th>rfm_score</th>\n",
       "    </tr>\n",
       "  </thead>\n",
       "  <tbody>\n",
       "    <tr>\n",
       "      <th>0</th>\n",
       "      <td>658</td>\n",
       "      <td>268</td>\n",
       "      <td>1</td>\n",
       "      <td>5.49</td>\n",
       "      <td>4</td>\n",
       "      <td>0</td>\n",
       "      <td>0</td>\n",
       "      <td>4</td>\n",
       "    </tr>\n",
       "    <tr>\n",
       "      <th>1</th>\n",
       "      <td>2344</td>\n",
       "      <td>3</td>\n",
       "      <td>34</td>\n",
       "      <td>347.33</td>\n",
       "      <td>0</td>\n",
       "      <td>4</td>\n",
       "      <td>4</td>\n",
       "      <td>8</td>\n",
       "    </tr>\n",
       "    <tr>\n",
       "      <th>2</th>\n",
       "      <td>7821</td>\n",
       "      <td>235</td>\n",
       "      <td>4</td>\n",
       "      <td>18.90</td>\n",
       "      <td>4</td>\n",
       "      <td>2</td>\n",
       "      <td>1</td>\n",
       "      <td>7</td>\n",
       "    </tr>\n",
       "    <tr>\n",
       "      <th>3</th>\n",
       "      <td>20211</td>\n",
       "      <td>-4</td>\n",
       "      <td>6</td>\n",
       "      <td>13.69</td>\n",
       "      <td>0</td>\n",
       "      <td>3</td>\n",
       "      <td>1</td>\n",
       "      <td>4</td>\n",
       "    </tr>\n",
       "    <tr>\n",
       "      <th>4</th>\n",
       "      <td>34088</td>\n",
       "      <td>23</td>\n",
       "      <td>18</td>\n",
       "      <td>77.00</td>\n",
       "      <td>1</td>\n",
       "      <td>4</td>\n",
       "      <td>3</td>\n",
       "      <td>8</td>\n",
       "    </tr>\n",
       "  </tbody>\n",
       "</table>\n",
       "</div>"
      ],
      "text/plain": [
       "   customer_id  recency  frequency  monetary  recency_score  frequency_score  \\\n",
       "0          658      268          1      5.49              4                0   \n",
       "1         2344        3         34    347.33              0                4   \n",
       "2         7821      235          4     18.90              4                2   \n",
       "3        20211       -4          6     13.69              0                3   \n",
       "4        34088       23         18     77.00              1                4   \n",
       "\n",
       "   monetary_score  rfm_score  \n",
       "0               0          4  \n",
       "1               4          8  \n",
       "2               1          7  \n",
       "3               1          4  \n",
       "4               3          8  "
      ]
     },
     "execution_count": 22,
     "metadata": {},
     "output_type": "execute_result"
    }
   ],
   "source": [
    "rfm_data.head()"
   ]
  },
  {
   "cell_type": "code",
   "execution_count": 23,
   "id": "6c486d2f",
   "metadata": {},
   "outputs": [
    {
     "data": {
      "text/html": [
       "<div>\n",
       "<style scoped>\n",
       "    .dataframe tbody tr th:only-of-type {\n",
       "        vertical-align: middle;\n",
       "    }\n",
       "\n",
       "    .dataframe tbody tr th {\n",
       "        vertical-align: top;\n",
       "    }\n",
       "\n",
       "    .dataframe thead th {\n",
       "        text-align: right;\n",
       "    }\n",
       "</style>\n",
       "<table border=\"1\" class=\"dataframe\">\n",
       "  <thead>\n",
       "    <tr style=\"text-align: right;\">\n",
       "      <th></th>\n",
       "      <th>customer_id</th>\n",
       "      <th>recency</th>\n",
       "      <th>frequency</th>\n",
       "      <th>monetary</th>\n",
       "      <th>recency_score</th>\n",
       "      <th>frequency_score</th>\n",
       "      <th>monetary_score</th>\n",
       "      <th>rfm_score</th>\n",
       "      <th>RFM_Level</th>\n",
       "    </tr>\n",
       "  </thead>\n",
       "  <tbody>\n",
       "    <tr>\n",
       "      <th>0</th>\n",
       "      <td>658</td>\n",
       "      <td>268</td>\n",
       "      <td>1</td>\n",
       "      <td>5.49</td>\n",
       "      <td>4</td>\n",
       "      <td>0</td>\n",
       "      <td>0</td>\n",
       "      <td>4</td>\n",
       "      <td>Needs Attention</td>\n",
       "    </tr>\n",
       "    <tr>\n",
       "      <th>1</th>\n",
       "      <td>2344</td>\n",
       "      <td>3</td>\n",
       "      <td>34</td>\n",
       "      <td>347.33</td>\n",
       "      <td>0</td>\n",
       "      <td>4</td>\n",
       "      <td>4</td>\n",
       "      <td>8</td>\n",
       "      <td>Champions</td>\n",
       "    </tr>\n",
       "    <tr>\n",
       "      <th>2</th>\n",
       "      <td>7821</td>\n",
       "      <td>235</td>\n",
       "      <td>4</td>\n",
       "      <td>18.90</td>\n",
       "      <td>4</td>\n",
       "      <td>2</td>\n",
       "      <td>1</td>\n",
       "      <td>7</td>\n",
       "      <td>Loyal</td>\n",
       "    </tr>\n",
       "    <tr>\n",
       "      <th>3</th>\n",
       "      <td>20211</td>\n",
       "      <td>-4</td>\n",
       "      <td>6</td>\n",
       "      <td>13.69</td>\n",
       "      <td>0</td>\n",
       "      <td>3</td>\n",
       "      <td>1</td>\n",
       "      <td>4</td>\n",
       "      <td>Needs Attention</td>\n",
       "    </tr>\n",
       "    <tr>\n",
       "      <th>4</th>\n",
       "      <td>34088</td>\n",
       "      <td>23</td>\n",
       "      <td>18</td>\n",
       "      <td>77.00</td>\n",
       "      <td>1</td>\n",
       "      <td>4</td>\n",
       "      <td>3</td>\n",
       "      <td>8</td>\n",
       "      <td>Champions</td>\n",
       "    </tr>\n",
       "  </tbody>\n",
       "</table>\n",
       "</div>"
      ],
      "text/plain": [
       "   customer_id  recency  frequency  monetary  recency_score  frequency_score  \\\n",
       "0          658      268          1      5.49              4                0   \n",
       "1         2344        3         34    347.33              0                4   \n",
       "2         7821      235          4     18.90              4                2   \n",
       "3        20211       -4          6     13.69              0                3   \n",
       "4        34088       23         18     77.00              1                4   \n",
       "\n",
       "   monetary_score  rfm_score        RFM_Level  \n",
       "0               0          4  Needs Attention  \n",
       "1               4          8        Champions  \n",
       "2               1          7            Loyal  \n",
       "3               1          4  Needs Attention  \n",
       "4               3          8        Champions  "
      ]
     },
     "execution_count": 23,
     "metadata": {},
     "output_type": "execute_result"
    }
   ],
   "source": [
    "# Define rfm_level function\n",
    "def rfm_level(rfm_data):\n",
    "    if rfm_data['rfm_score'] >= 9:\n",
    "        return 'Can\\'t Loose Them'\n",
    "    elif ((rfm_data['rfm_score'] >= 8) and (rfm_data['rfm_score'] < 9)):\n",
    "        return 'Champions'\n",
    "    elif ((rfm_data['rfm_score'] >= 7) and (rfm_data['rfm_score'] < 8)):\n",
    "        return 'Loyal'\n",
    "    elif ((rfm_data['rfm_score'] >= 6) and (rfm_data['rfm_score'] < 7)):\n",
    "        return 'Potential'\n",
    "    elif ((rfm_data['rfm_score'] >= 5) and (rfm_data['rfm_score'] < 6)):\n",
    "        return 'Promising'\n",
    "    elif ((rfm_data['rfm_score'] >= 4) and (rfm_data['rfm_score'] < 5)):\n",
    "        return 'Needs Attention'\n",
    "    else:\n",
    "        return 'Require Activation'\n",
    "# Create a new variable RFM_Level\n",
    "rfm_data['RFM_Level'] = rfm_data.apply(rfm_level, axis=1)\n",
    "# Print the header with top 5 rows to the console\n",
    "rfm_data.head()"
   ]
  },
  {
   "cell_type": "code",
   "execution_count": 24,
   "id": "783f44de",
   "metadata": {},
   "outputs": [
    {
     "data": {
      "text/plain": [
       "Require Activation    12\n",
       "Champions             10\n",
       "Needs Attention        9\n",
       "Can't Loose Them       9\n",
       "Loyal                  7\n",
       "Potential              6\n",
       "Promising              4\n",
       "Name: RFM_Level, dtype: int64"
      ]
     },
     "execution_count": 24,
     "metadata": {},
     "output_type": "execute_result"
    }
   ],
   "source": [
    "rfm_data[\"RFM_Level\"].value_counts()"
   ]
  },
  {
   "cell_type": "code",
   "execution_count": 30,
   "id": "1919ccb0",
   "metadata": {},
   "outputs": [
    {
     "data": {
      "image/png": "[encoded data removed]",
      "text/plain": [
       "<Figure size 1200x800 with 1 Axes>"
      ]
     },
     "metadata": {},
     "output_type": "display_data"
    }
   ],
   "source": [
    "# Plot RFM levels\n",
    "plt.figure(figsize=(12, 8))\n",
    "sns.countplot(data=rfm_data, x='RFM_Level')\n",
    "plt.xlabel('RFM Level')\n",
    "plt.ylabel('Count')\n",
    "plt.title('Distribution of RFM Levels')\n",
    "plt.show()"
   ]
  },
  {
   "cell_type": "code",
   "execution_count": 481,
   "id": "433f08bf",
   "metadata": {},
   "outputs": [],
   "source": [
    "# # Mean, median, count statistics of different segments\n",
    "# rfm_data[[\"RFM_Level\",\"recency\",\"frequency\", \"monetary\"]].groupby(\"RFM_Level\").agg([\"mean\",\"median\",\"count\"])"
   ]
  },
  {
   "cell_type": "code",
   "execution_count": 482,
   "id": "82757c28",
   "metadata": {},
   "outputs": [
    {
     "name": "stdout",
     "output_type": "stream",
     "text": [
      "                   recency frequency monetary      \n",
      "                      mean      mean     mean count\n",
      "RFM_Level                                          \n",
      "Can't Loose Them     154.4      16.4    519.7     9\n",
      "Champions             98.5      14.8    538.5    10\n",
      "Loyal                133.9       7.0     49.7     7\n",
      "Needs Attention      153.4       2.8     17.0     9\n",
      "Potential            149.2       3.3    142.2     6\n",
      "Promising            104.8       3.0     39.5     4\n",
      "Require Activation    70.1       2.1      9.7    12\n"
     ]
    }
   ],
   "source": [
    "# Calculate average values for each RFM_Level, and return a size of each segment \n",
    "rfm_df_agg = rfm_data.groupby('RFM_Level').agg({\n",
    "    'recency': 'mean',\n",
    "    'frequency': 'mean',\n",
    "    'monetary': ['mean', 'count']}).round(1)\n",
    "# Print the aggregated dataset\n",
    "print(rfm_df_agg)"
   ]
  },
  {
   "cell_type": "code",
   "execution_count": 483,
   "id": "b96fa796",
   "metadata": {},
   "outputs": [
    {
     "data": {
      "image/png": "[encoded data removed]",
      "text/plain": [
       "<Figure size 1000x600 with 1 Axes>"
      ]
     },
     "metadata": {},
     "output_type": "display_data"
    }
   ],
   "source": [
    "# Rename the columns for clarity\n",
    "rfm_df_agg.columns = ['Avg. Recency', 'Avg. Frequency', 'Avg. Monetary', 'Total Customers']\n",
    "\n",
    "# Plot the bar plot\n",
    "rfm_df_agg['Total Customers'].plot(kind='bar', figsize=(10, 6))\n",
    "\n",
    "# Customize the plot if needed\n",
    "plt.xlabel('RFM Level')\n",
    "plt.ylabel('Total Customers')\n",
    "plt.title('Total Customers for each RFM Level')\n",
    "\n",
    "# Display the plot\n",
    "plt.tight_layout()\n",
    "plt.show()"
   ]
  },
  {
   "cell_type": "code",
   "execution_count": 484,
   "id": "0f9aabd6",
   "metadata": {},
   "outputs": [
    {
     "name": "stderr",
     "output_type": "stream",
     "text": [
      "C:\\Users\\Admin\\anaconda3\\lib\\site-packages\\squarify\\__init__.py:231: MatplotlibDeprecationWarning:\n",
      "\n",
      "The get_cmap function was deprecated in Matplotlib 3.7 and will be removed two minor releases later. Use ``matplotlib.colormaps[name]`` or ``matplotlib.colormaps.get_cmap(obj)`` instead.\n",
      "\n"
     ]
    },
    {
     "data": {
      "image/png": "[encoded data removed]",
      "text/plain": [
       "<Figure size 1600x900 with 1 Axes>"
      ]
     },
     "metadata": {},
     "output_type": "display_data"
    }
   ],
   "source": [
    "rfm_df_agg.columns = rfm_df_agg.columns\n",
    "rfm_df_agg.columns = ['RecencyMean','FrequencyMean','MonetaryMean', 'Count']\n",
    "#Create our plot and resize it.\n",
    "fig = plt.gcf()\n",
    "ax = fig.add_subplot()\n",
    "fig.set_size_inches(16, 9)\n",
    "squarify.plot(sizes=rfm_df_agg['Count'], \n",
    "              label=['Can\\'t Loose Them',\n",
    "                     'Champions',\n",
    "                     'Loyal',\n",
    "                     'Needs Attention',\n",
    "                     'Potential',  #,\n",
    "                     'Promising', \n",
    "                     'Require Activation'\n",
    "                    ], alpha=.6 )\n",
    "plt.title(\"RFM Segments\",fontsize=18,fontweight=\"bold\")\n",
    "plt.axis('off')\n",
    "plt.show()"
   ]
  },
  {
   "cell_type": "code",
   "execution_count": null,
   "id": "a860610c",
   "metadata": {},
   "outputs": [],
   "source": [
    "/////////////// K-means with elbow method ///////////////////////"
   ]
  },
  {
   "cell_type": "code",
   "execution_count": 485,
   "id": "8c2edbbf",
   "metadata": {},
   "outputs": [
    {
     "name": "stderr",
     "output_type": "stream",
     "text": [
      "C:\\Users\\Admin\\anaconda3\\lib\\site-packages\\sklearn\\cluster\\_kmeans.py:870: FutureWarning:\n",
      "\n",
      "The default value of `n_init` will change from 10 to 'auto' in 1.4. Set the value of `n_init` explicitly to suppress the warning\n",
      "\n",
      "C:\\Users\\Admin\\anaconda3\\lib\\site-packages\\sklearn\\cluster\\_kmeans.py:1382: UserWarning:\n",
      "\n",
      "KMeans is known to have a memory leak on Windows with MKL, when there are less chunks than available threads. You can avoid it by setting the environment variable OMP_NUM_THREADS=1.\n",
      "\n",
      "C:\\Users\\Admin\\anaconda3\\lib\\site-packages\\sklearn\\cluster\\_kmeans.py:870: FutureWarning:\n",
      "\n",
      "The default value of `n_init` will change from 10 to 'auto' in 1.4. Set the value of `n_init` explicitly to suppress the warning\n",
      "\n",
      "C:\\Users\\Admin\\anaconda3\\lib\\site-packages\\sklearn\\cluster\\_kmeans.py:1382: UserWarning:\n",
      "\n",
      "KMeans is known to have a memory leak on Windows with MKL, when there are less chunks than available threads. You can avoid it by setting the environment variable OMP_NUM_THREADS=1.\n",
      "\n",
      "C:\\Users\\Admin\\anaconda3\\lib\\site-packages\\sklearn\\cluster\\_kmeans.py:870: FutureWarning:\n",
      "\n",
      "The default value of `n_init` will change from 10 to 'auto' in 1.4. Set the value of `n_init` explicitly to suppress the warning\n",
      "\n",
      "C:\\Users\\Admin\\anaconda3\\lib\\site-packages\\sklearn\\cluster\\_kmeans.py:1382: UserWarning:\n",
      "\n",
      "KMeans is known to have a memory leak on Windows with MKL, when there are less chunks than available threads. You can avoid it by setting the environment variable OMP_NUM_THREADS=1.\n",
      "\n",
      "C:\\Users\\Admin\\anaconda3\\lib\\site-packages\\sklearn\\cluster\\_kmeans.py:870: FutureWarning:\n",
      "\n",
      "The default value of `n_init` will change from 10 to 'auto' in 1.4. Set the value of `n_init` explicitly to suppress the warning\n",
      "\n",
      "C:\\Users\\Admin\\anaconda3\\lib\\site-packages\\sklearn\\cluster\\_kmeans.py:1382: UserWarning:\n",
      "\n",
      "KMeans is known to have a memory leak on Windows with MKL, when there are less chunks than available threads. You can avoid it by setting the environment variable OMP_NUM_THREADS=1.\n",
      "\n",
      "C:\\Users\\Admin\\anaconda3\\lib\\site-packages\\sklearn\\cluster\\_kmeans.py:870: FutureWarning:\n",
      "\n",
      "The default value of `n_init` will change from 10 to 'auto' in 1.4. Set the value of `n_init` explicitly to suppress the warning\n",
      "\n",
      "C:\\Users\\Admin\\anaconda3\\lib\\site-packages\\sklearn\\cluster\\_kmeans.py:1382: UserWarning:\n",
      "\n",
      "KMeans is known to have a memory leak on Windows with MKL, when there are less chunks than available threads. You can avoid it by setting the environment variable OMP_NUM_THREADS=1.\n",
      "\n",
      "C:\\Users\\Admin\\anaconda3\\lib\\site-packages\\sklearn\\cluster\\_kmeans.py:870: FutureWarning:\n",
      "\n",
      "The default value of `n_init` will change from 10 to 'auto' in 1.4. Set the value of `n_init` explicitly to suppress the warning\n",
      "\n",
      "C:\\Users\\Admin\\anaconda3\\lib\\site-packages\\sklearn\\cluster\\_kmeans.py:1382: UserWarning:\n",
      "\n",
      "KMeans is known to have a memory leak on Windows with MKL, when there are less chunks than available threads. You can avoid it by setting the environment variable OMP_NUM_THREADS=1.\n",
      "\n",
      "C:\\Users\\Admin\\anaconda3\\lib\\site-packages\\sklearn\\cluster\\_kmeans.py:870: FutureWarning:\n",
      "\n",
      "The default value of `n_init` will change from 10 to 'auto' in 1.4. Set the value of `n_init` explicitly to suppress the warning\n",
      "\n",
      "C:\\Users\\Admin\\anaconda3\\lib\\site-packages\\sklearn\\cluster\\_kmeans.py:1382: UserWarning:\n",
      "\n",
      "KMeans is known to have a memory leak on Windows with MKL, when there are less chunks than available threads. You can avoid it by setting the environment variable OMP_NUM_THREADS=1.\n",
      "\n",
      "C:\\Users\\Admin\\anaconda3\\lib\\site-packages\\sklearn\\cluster\\_kmeans.py:870: FutureWarning:\n",
      "\n",
      "The default value of `n_init` will change from 10 to 'auto' in 1.4. Set the value of `n_init` explicitly to suppress the warning\n",
      "\n",
      "C:\\Users\\Admin\\anaconda3\\lib\\site-packages\\sklearn\\cluster\\_kmeans.py:1382: UserWarning:\n",
      "\n",
      "KMeans is known to have a memory leak on Windows with MKL, when there are less chunks than available threads. You can avoid it by setting the environment variable OMP_NUM_THREADS=1.\n",
      "\n",
      "C:\\Users\\Admin\\anaconda3\\lib\\site-packages\\sklearn\\cluster\\_kmeans.py:870: FutureWarning:\n",
      "\n",
      "The default value of `n_init` will change from 10 to 'auto' in 1.4. Set the value of `n_init` explicitly to suppress the warning\n",
      "\n",
      "C:\\Users\\Admin\\anaconda3\\lib\\site-packages\\sklearn\\cluster\\_kmeans.py:1382: UserWarning:\n",
      "\n",
      "KMeans is known to have a memory leak on Windows with MKL, when there are less chunks than available threads. You can avoid it by setting the environment variable OMP_NUM_THREADS=1.\n",
      "\n",
      "C:\\Users\\Admin\\anaconda3\\lib\\site-packages\\sklearn\\cluster\\_kmeans.py:870: FutureWarning:\n",
      "\n",
      "The default value of `n_init` will change from 10 to 'auto' in 1.4. Set the value of `n_init` explicitly to suppress the warning\n",
      "\n",
      "C:\\Users\\Admin\\anaconda3\\lib\\site-packages\\sklearn\\cluster\\_kmeans.py:1382: UserWarning:\n",
      "\n",
      "KMeans is known to have a memory leak on Windows with MKL, when there are less chunks than available threads. You can avoid it by setting the environment variable OMP_NUM_THREADS=1.\n",
      "\n"
     ]
    },
    {
     "data": {
      "image/png": "[encoded data removed]",
      "text/plain": [
       "<Figure size 640x480 with 1 Axes>"
      ]
     },
     "metadata": {},
     "output_type": "display_data"
    },
    {
     "name": "stderr",
     "output_type": "stream",
     "text": [
      "C:\\Users\\Admin\\anaconda3\\lib\\site-packages\\sklearn\\cluster\\_kmeans.py:870: FutureWarning:\n",
      "\n",
      "The default value of `n_init` will change from 10 to 'auto' in 1.4. Set the value of `n_init` explicitly to suppress the warning\n",
      "\n",
      "C:\\Users\\Admin\\anaconda3\\lib\\site-packages\\sklearn\\cluster\\_kmeans.py:1382: UserWarning:\n",
      "\n",
      "KMeans is known to have a memory leak on Windows with MKL, when there are less chunks than available threads. You can avoid it by setting the environment variable OMP_NUM_THREADS=1.\n",
      "\n",
      "C:\\Users\\Admin\\AppData\\Local\\Temp\\ipykernel_19860\\979204650.py:46: FutureWarning:\n",
      "\n",
      "The default value of numeric_only in DataFrameGroupBy.mean is deprecated. In a future version, numeric_only will default to False. Either specify numeric_only or select only columns which should be valid for the function.\n",
      "\n"
     ]
    }
   ],
   "source": [
    "import pandas as pd\n",
    "import numpy as np\n",
    "from sklearn.cluster import KMeans\n",
    "from sklearn.preprocessing import StandardScaler\n",
    "import matplotlib.pyplot as plt\n",
    "\n",
    "rfm_df_encoded = pd.get_dummies(rfm_data, columns=['RFM_Level'])\n",
    "\n",
    "# Standardize the RFM data\n",
    "scaler = StandardScaler()\n",
    "rfm_data_scaled = scaler.fit_transform(rfm_df_encoded)\n",
    "\n",
    "\n",
    "inertias = []\n",
    "k_values = range(1, 11)  # Try different numbers of clusters\n",
    "for k in k_values:\n",
    "    kmeans = KMeans(n_clusters=k, random_state=0)\n",
    "    kmeans.fit(rfm_data_scaled)\n",
    "    inertias.append(kmeans.inertia_)\n",
    "\n",
    "# Plot the elbow curve\n",
    "plt.plot(k_values, inertias, 'bx-')\n",
    "plt.xlabel('Number of Clusters (k)')\n",
    "plt.ylabel('Inertia')\n",
    "plt.title('Elbow Curve')\n",
    "plt.show()\n",
    "\n",
    "\n",
    "optimal_k = 3  \n",
    "kmeans = KMeans(n_clusters=optimal_k, random_state=0)\n",
    "kmeans.fit(rfm_data_scaled)\n",
    "\n",
    "# Assign the cluster labels to the original DataFrame\n",
    "rfm_data['Cluster'] = kmeans.labels_\n",
    "\n",
    "# Analyze the clusters\n",
    "cluster_summary = rfm_data.groupby('Cluster').mean()\n",
    "\n"
   ]
  },
  {
   "cell_type": "code",
   "execution_count": 486,
   "id": "4c67fc76",
   "metadata": {},
   "outputs": [
    {
     "data": {
      "image/png": "[encoded data removed]",
      "text/plain": [
       "<Figure size 640x480 with 1 Axes>"
      ]
     },
     "metadata": {},
     "output_type": "display_data"
    }
   ],
   "source": [
    "# Plot the elbow curve\n",
    "plt.plot(k_values, inertias, 'bx-')\n",
    "plt.xlabel('Number of Clusters (k)')\n",
    "plt.ylabel('Inertia')\n",
    "plt.title('Elbow Curve')\n",
    "plt.show()"
   ]
  },
  {
   "cell_type": "code",
   "execution_count": 487,
   "id": "010b4e0c",
   "metadata": {},
   "outputs": [
    {
     "name": "stderr",
     "output_type": "stream",
     "text": [
      "C:\\Users\\Admin\\anaconda3\\lib\\site-packages\\sklearn\\cluster\\_kmeans.py:870: FutureWarning:\n",
      "\n",
      "The default value of `n_init` will change from 10 to 'auto' in 1.4. Set the value of `n_init` explicitly to suppress the warning\n",
      "\n",
      "C:\\Users\\Admin\\anaconda3\\lib\\site-packages\\sklearn\\cluster\\_kmeans.py:1382: UserWarning:\n",
      "\n",
      "KMeans is known to have a memory leak on Windows with MKL, when there are less chunks than available threads. You can avoid it by setting the environment variable OMP_NUM_THREADS=1.\n",
      "\n"
     ]
    }
   ],
   "source": [
    "kmeans = KMeans(n_clusters = 3, init = 'k-means++', random_state = 42)\n",
    "y_kmeans = kmeans.fit_predict(rfm_df_encoded)"
   ]
  },
  {
   "cell_type": "code",
   "execution_count": 488,
   "id": "da775461",
   "metadata": {},
   "outputs": [
    {
     "data": {
      "text/html": [
       "<div>\n",
       "<style scoped>\n",
       "    .dataframe tbody tr th:only-of-type {\n",
       "        vertical-align: middle;\n",
       "    }\n",
       "\n",
       "    .dataframe tbody tr th {\n",
       "        vertical-align: top;\n",
       "    }\n",
       "\n",
       "    .dataframe thead th {\n",
       "        text-align: right;\n",
       "    }\n",
       "</style>\n",
       "<table border=\"1\" class=\"dataframe\">\n",
       "  <thead>\n",
       "    <tr style=\"text-align: right;\">\n",
       "      <th></th>\n",
       "      <th>customer_id</th>\n",
       "      <th>recency</th>\n",
       "      <th>frequency</th>\n",
       "      <th>monetary</th>\n",
       "      <th>recency_score</th>\n",
       "      <th>frequency_score</th>\n",
       "      <th>monetary_score</th>\n",
       "      <th>rfm_score</th>\n",
       "      <th>RFM_Level</th>\n",
       "      <th>Cluster</th>\n",
       "    </tr>\n",
       "  </thead>\n",
       "  <tbody>\n",
       "    <tr>\n",
       "      <th>0</th>\n",
       "      <td>658</td>\n",
       "      <td>266</td>\n",
       "      <td>1</td>\n",
       "      <td>5.49</td>\n",
       "      <td>4</td>\n",
       "      <td>0</td>\n",
       "      <td>0</td>\n",
       "      <td>4</td>\n",
       "      <td>Needs Attention</td>\n",
       "      <td>2</td>\n",
       "    </tr>\n",
       "    <tr>\n",
       "      <th>1</th>\n",
       "      <td>2344</td>\n",
       "      <td>1</td>\n",
       "      <td>34</td>\n",
       "      <td>347.33</td>\n",
       "      <td>0</td>\n",
       "      <td>4</td>\n",
       "      <td>4</td>\n",
       "      <td>8</td>\n",
       "      <td>Champions</td>\n",
       "      <td>0</td>\n",
       "    </tr>\n",
       "    <tr>\n",
       "      <th>2</th>\n",
       "      <td>7821</td>\n",
       "      <td>233</td>\n",
       "      <td>4</td>\n",
       "      <td>18.90</td>\n",
       "      <td>4</td>\n",
       "      <td>2</td>\n",
       "      <td>1</td>\n",
       "      <td>7</td>\n",
       "      <td>Loyal</td>\n",
       "      <td>1</td>\n",
       "    </tr>\n",
       "    <tr>\n",
       "      <th>3</th>\n",
       "      <td>20211</td>\n",
       "      <td>-6</td>\n",
       "      <td>6</td>\n",
       "      <td>13.69</td>\n",
       "      <td>0</td>\n",
       "      <td>3</td>\n",
       "      <td>1</td>\n",
       "      <td>4</td>\n",
       "      <td>Needs Attention</td>\n",
       "      <td>2</td>\n",
       "    </tr>\n",
       "    <tr>\n",
       "      <th>4</th>\n",
       "      <td>34088</td>\n",
       "      <td>21</td>\n",
       "      <td>18</td>\n",
       "      <td>77.00</td>\n",
       "      <td>1</td>\n",
       "      <td>4</td>\n",
       "      <td>3</td>\n",
       "      <td>8</td>\n",
       "      <td>Champions</td>\n",
       "      <td>0</td>\n",
       "    </tr>\n",
       "  </tbody>\n",
       "</table>\n",
       "</div>"
      ],
      "text/plain": [
       "   customer_id  recency  frequency  monetary  recency_score  frequency_score  \\\n",
       "0          658      266          1      5.49              4                0   \n",
       "1         2344        1         34    347.33              0                4   \n",
       "2         7821      233          4     18.90              4                2   \n",
       "3        20211       -6          6     13.69              0                3   \n",
       "4        34088       21         18     77.00              1                4   \n",
       "\n",
       "   monetary_score  rfm_score        RFM_Level  Cluster  \n",
       "0               0          4  Needs Attention        2  \n",
       "1               4          8        Champions        0  \n",
       "2               1          7            Loyal        1  \n",
       "3               1          4  Needs Attention        2  \n",
       "4               3          8        Champions        0  "
      ]
     },
     "execution_count": 488,
     "metadata": {},
     "output_type": "execute_result"
    }
   ],
   "source": [
    "rfm_data.head()"
   ]
  },
  {
   "cell_type": "code",
   "execution_count": 489,
   "id": "314e275e",
   "metadata": {},
   "outputs": [
    {
     "data": {
      "text/plain": [
       "(57, 10)"
      ]
     },
     "execution_count": 489,
     "metadata": {},
     "output_type": "execute_result"
    }
   ],
   "source": [
    "rfm_data.shape"
   ]
  },
  {
   "cell_type": "code",
   "execution_count": 490,
   "id": "e9c2b29a",
   "metadata": {},
   "outputs": [
    {
     "data": {
      "image/png": "[encoded data removed]",
      "text/plain": [
       "<Figure size 2000x1000 with 2 Axes>"
      ]
     },
     "metadata": {},
     "output_type": "display_data"
    }
   ],
   "source": [
    "plt.figure(figsize = (20,10))\n",
    "plt.title(\"Kmeans\")\n",
    "ax = plt.axes(projection='3d')\n",
    "fg = ax.scatter3D(rfm_data['recency'],rfm_data['frequency'],rfm_data['monetary'],s = 50, c = y_kmeans,)"
   ]
  },
  {
   "cell_type": "code",
   "execution_count": 491,
   "id": "8afedf5c",
   "metadata": {},
   "outputs": [
    {
     "name": "stdout",
     "output_type": "stream",
     "text": [
      "For n_clusters = 3 The average silhouette_score is : 0.5988554432976071\n"
     ]
    }
   ],
   "source": [
    "silhouette_avg = silhouette_score(rfm_df_encoded,y_kmeans)\n",
    "print(\"For n_clusters =\", 3 ,\"The average silhouette_score is :\",silhouette_avg)\n"
   ]
  },
  {
   "cell_type": "code",
   "execution_count": null,
   "id": "5927b4e7",
   "metadata": {},
   "outputs": [],
   "source": [
    "////////////////////////////////////using k-means with pca to plot in 2 d/////////////////////////////////////"
   ]
  },
  {
   "cell_type": "code",
   "execution_count": 492,
   "id": "7e374517",
   "metadata": {
    "scrolled": false
   },
   "outputs": [
    {
     "name": "stderr",
     "output_type": "stream",
     "text": [
      "C:\\Users\\Admin\\anaconda3\\lib\\site-packages\\sklearn\\cluster\\_kmeans.py:870: FutureWarning:\n",
      "\n",
      "The default value of `n_init` will change from 10 to 'auto' in 1.4. Set the value of `n_init` explicitly to suppress the warning\n",
      "\n",
      "C:\\Users\\Admin\\anaconda3\\lib\\site-packages\\sklearn\\cluster\\_kmeans.py:1382: UserWarning:\n",
      "\n",
      "KMeans is known to have a memory leak on Windows with MKL, when there are less chunks than available threads. You can avoid it by setting the environment variable OMP_NUM_THREADS=1.\n",
      "\n"
     ]
    },
    {
     "data": {
      "image/png": "[encoded data removed]",
      "text/plain": [
       "<Figure size 640x480 with 1 Axes>"
      ]
     },
     "metadata": {},
     "output_type": "display_data"
    }
   ],
   "source": [
    "#Importing required modules\n",
    " \n",
    "from sklearn.decomposition import PCA\n",
    "import numpy as np\n",
    " \n",
    "pca = PCA(2)\n",
    " \n",
    "#Transform the data\n",
    "df = pca.fit_transform(rfm_df_encoded)\n",
    " \n",
    "#Import KMeans module\n",
    "from sklearn.cluster import KMeans\n",
    " \n",
    "#Initialize the class object\n",
    "kmeans = KMeans(n_clusters= 3)\n",
    " \n",
    "#predict the labels of clusters.\n",
    "label = kmeans.fit_predict(df)\n",
    " \n",
    "#Getting unique labels\n",
    "u_labels = np.unique(label)\n",
    " \n",
    "#plotting the results:\n",
    "for i in u_labels:\n",
    "    plt.scatter(df[label == i , 0] , df[label == i , 1] , label = i)\n",
    "plt.legend()\n",
    "plt.title(\"Kmeans\")\n",
    "plt.show()"
   ]
  },
  {
   "cell_type": "code",
   "execution_count": 493,
   "id": "a8f30041",
   "metadata": {},
   "outputs": [
    {
     "name": "stdout",
     "output_type": "stream",
     "text": [
      "For n_clusters = 3 The average silhouette_score is : 0.5988566664296017\n"
     ]
    }
   ],
   "source": [
    "# for the 2d data\n",
    "silhouette_avg = silhouette_score(df,label)\n",
    "print(\"For n_clusters =\", 3 ,\"The average silhouette_score is :\",silhouette_avg)"
   ]
  },
  {
   "cell_type": "code",
   "execution_count": null,
   "id": "61256660",
   "metadata": {},
   "outputs": [],
   "source": [
    "////////////////////////////////////////////////////////////////////////////////////////////////////////////////////////////////"
   ]
  },
  {
   "cell_type": "code",
   "execution_count": null,
   "id": "08b42632",
   "metadata": {},
   "outputs": [],
   "source": [
    "# Core 01 Customer Focus: prevention of the churn of high value customers by a marketing \n",
    "# campaign for customer retention [CHURN + RFM];"
   ]
  },
  {
   "cell_type": "code",
   "execution_count": null,
   "id": "7fcb334c",
   "metadata": {},
   "outputs": [],
   "source": [
    "# Calculate the monetary value for each customer by aggregating their total spending (gross_price) over a given period:"
   ]
  },
  {
   "cell_type": "code",
   "execution_count": 502,
   "id": "ac3d874a",
   "metadata": {},
   "outputs": [],
   "source": [
    "import pandas as pd\n",
    "\n",
    "# Aggregate the total spending per customer\n",
    "customer_monetary_value = df.groupby('customer_id')['gross_price'].sum()\n",
    "\n",
    "# Convert the result into a DataFrame\n",
    "customer_monetary_value = pd.DataFrame(customer_monetary_value)\n",
    "customer_monetary_value.reset_index(inplace=True)  # Reset index for further processing\n",
    "\n",
    "# Rename the column to reflect the monetary value\n",
    "customer_monetary_value.rename(columns={'gross_price': 'monetary_value'}, inplace=True)\n"
   ]
  },
  {
   "cell_type": "code",
   "execution_count": 495,
   "id": "8d3ec706",
   "metadata": {},
   "outputs": [],
   "source": [
    "# Sort the customers based on their monetary value:"
   ]
  },
  {
   "cell_type": "code",
   "execution_count": 503,
   "id": "2394d4b7",
   "metadata": {},
   "outputs": [],
   "source": [
    "# Sort the customers based on their monetary value in descending order\n",
    "customer_monetary_value.sort_values('monetary_value', ascending=False, inplace=True)"
   ]
  },
  {
   "cell_type": "code",
   "execution_count": 504,
   "id": "3df3b098",
   "metadata": {},
   "outputs": [
    {
     "data": {
      "text/html": [
       "<div>\n",
       "<style scoped>\n",
       "    .dataframe tbody tr th:only-of-type {\n",
       "        vertical-align: middle;\n",
       "    }\n",
       "\n",
       "    .dataframe tbody tr th {\n",
       "        vertical-align: top;\n",
       "    }\n",
       "\n",
       "    .dataframe thead th {\n",
       "        text-align: right;\n",
       "    }\n",
       "</style>\n",
       "<table border=\"1\" class=\"dataframe\">\n",
       "  <thead>\n",
       "    <tr style=\"text-align: right;\">\n",
       "      <th></th>\n",
       "      <th>customer_id</th>\n",
       "      <th>monetary_value</th>\n",
       "    </tr>\n",
       "  </thead>\n",
       "  <tbody>\n",
       "    <tr>\n",
       "      <th>19</th>\n",
       "      <td>251068</td>\n",
       "      <td>2309.65</td>\n",
       "    </tr>\n",
       "    <tr>\n",
       "      <th>51</th>\n",
       "      <td>693062</td>\n",
       "      <td>1809.68</td>\n",
       "    </tr>\n",
       "    <tr>\n",
       "      <th>29</th>\n",
       "      <td>406505</td>\n",
       "      <td>1438.51</td>\n",
       "    </tr>\n",
       "    <tr>\n",
       "      <th>25</th>\n",
       "      <td>308545</td>\n",
       "      <td>885.91</td>\n",
       "    </tr>\n",
       "    <tr>\n",
       "      <th>42</th>\n",
       "      <td>589892</td>\n",
       "      <td>582.50</td>\n",
       "    </tr>\n",
       "  </tbody>\n",
       "</table>\n",
       "</div>"
      ],
      "text/plain": [
       "    customer_id  monetary_value\n",
       "19       251068         2309.65\n",
       "51       693062         1809.68\n",
       "29       406505         1438.51\n",
       "25       308545          885.91\n",
       "42       589892          582.50"
      ]
     },
     "execution_count": 504,
     "metadata": {},
     "output_type": "execute_result"
    }
   ],
   "source": [
    "customer_monetary_value.head()"
   ]
  },
  {
   "cell_type": "code",
   "execution_count": 505,
   "id": "4e4082b3",
   "metadata": {},
   "outputs": [
    {
     "data": {
      "text/plain": [
       "(57, 2)"
      ]
     },
     "execution_count": 505,
     "metadata": {},
     "output_type": "execute_result"
    }
   ],
   "source": [
    "customer_monetary_value.shape"
   ]
  },
  {
   "cell_type": "code",
   "execution_count": 506,
   "id": "2a522761",
   "metadata": {},
   "outputs": [],
   "source": [
    "# Select the top percentage of customers as high-value customers:"
   ]
  },
  {
   "cell_type": "code",
   "execution_count": 507,
   "id": "92701047",
   "metadata": {},
   "outputs": [],
   "source": [
    "# Determine the number of customers to select as high-value customers (e.g., top 20%)\n",
    "top_percentage = 0.24 # 24%\n",
    "num_high_value_customers = int(len(customer_monetary_value) * top_percentage)\n",
    "\n",
    "# Select the top percentage of customers as high-value customers\n",
    "high_value_customers = customer_monetary_value.head(num_high_value_customers)"
   ]
  },
  {
   "cell_type": "code",
   "execution_count": 508,
   "id": "3e529a2b",
   "metadata": {},
   "outputs": [
    {
     "data": {
      "text/html": [
       "<div>\n",
       "<style scoped>\n",
       "    .dataframe tbody tr th:only-of-type {\n",
       "        vertical-align: middle;\n",
       "    }\n",
       "\n",
       "    .dataframe tbody tr th {\n",
       "        vertical-align: top;\n",
       "    }\n",
       "\n",
       "    .dataframe thead th {\n",
       "        text-align: right;\n",
       "    }\n",
       "</style>\n",
       "<table border=\"1\" class=\"dataframe\">\n",
       "  <thead>\n",
       "    <tr style=\"text-align: right;\">\n",
       "      <th></th>\n",
       "      <th>customer_id</th>\n",
       "      <th>monetary_value</th>\n",
       "    </tr>\n",
       "  </thead>\n",
       "  <tbody>\n",
       "    <tr>\n",
       "      <th>19</th>\n",
       "      <td>251068</td>\n",
       "      <td>2309.65</td>\n",
       "    </tr>\n",
       "    <tr>\n",
       "      <th>51</th>\n",
       "      <td>693062</td>\n",
       "      <td>1809.68</td>\n",
       "    </tr>\n",
       "    <tr>\n",
       "      <th>29</th>\n",
       "      <td>406505</td>\n",
       "      <td>1438.51</td>\n",
       "    </tr>\n",
       "    <tr>\n",
       "      <th>25</th>\n",
       "      <td>308545</td>\n",
       "      <td>885.91</td>\n",
       "    </tr>\n",
       "    <tr>\n",
       "      <th>42</th>\n",
       "      <td>589892</td>\n",
       "      <td>582.50</td>\n",
       "    </tr>\n",
       "    <tr>\n",
       "      <th>47</th>\n",
       "      <td>680604</td>\n",
       "      <td>549.50</td>\n",
       "    </tr>\n",
       "    <tr>\n",
       "      <th>9</th>\n",
       "      <td>93263</td>\n",
       "      <td>536.13</td>\n",
       "    </tr>\n",
       "    <tr>\n",
       "      <th>24</th>\n",
       "      <td>304480</td>\n",
       "      <td>494.31</td>\n",
       "    </tr>\n",
       "    <tr>\n",
       "      <th>1</th>\n",
       "      <td>2344</td>\n",
       "      <td>347.33</td>\n",
       "    </tr>\n",
       "    <tr>\n",
       "      <th>23</th>\n",
       "      <td>298715</td>\n",
       "      <td>330.95</td>\n",
       "    </tr>\n",
       "    <tr>\n",
       "      <th>27</th>\n",
       "      <td>350862</td>\n",
       "      <td>299.00</td>\n",
       "    </tr>\n",
       "    <tr>\n",
       "      <th>6</th>\n",
       "      <td>45132</td>\n",
       "      <td>291.88</td>\n",
       "    </tr>\n",
       "    <tr>\n",
       "      <th>8</th>\n",
       "      <td>84587</td>\n",
       "      <td>218.28</td>\n",
       "    </tr>\n",
       "  </tbody>\n",
       "</table>\n",
       "</div>"
      ],
      "text/plain": [
       "    customer_id  monetary_value\n",
       "19       251068         2309.65\n",
       "51       693062         1809.68\n",
       "29       406505         1438.51\n",
       "25       308545          885.91\n",
       "42       589892          582.50\n",
       "47       680604          549.50\n",
       "9         93263          536.13\n",
       "24       304480          494.31\n",
       "1          2344          347.33\n",
       "23       298715          330.95\n",
       "27       350862          299.00\n",
       "6         45132          291.88\n",
       "8         84587          218.28"
      ]
     },
     "execution_count": 508,
     "metadata": {},
     "output_type": "execute_result"
    }
   ],
   "source": [
    "high_value_customers"
   ]
  },
  {
   "cell_type": "code",
   "execution_count": 509,
   "id": "52e7553f",
   "metadata": {},
   "outputs": [],
   "source": [
    "# Perform churn analysis and determine the churn status of each high-value customer"
   ]
  },
  {
   "cell_type": "code",
   "execution_count": 510,
   "id": "83f8be9e",
   "metadata": {},
   "outputs": [],
   "source": [
    "# Define the time period for churn analysis, such as the last 365 days. Set the cutoff date for the analysis."
   ]
  },
  {
   "cell_type": "code",
   "execution_count": 511,
   "id": "4f24f736",
   "metadata": {},
   "outputs": [],
   "source": [
    "import datetime\n",
    "\n",
    "# Set the cutoff date as the current date minus 365 days\n",
    "cutoff_date = datetime.datetime.now() - datetime.timedelta(days=365)\n",
    "\n",
    "# Convert the cutoff date to datetime64[ns] type\n",
    "cutoff_date = pd.to_datetime(cutoff_date)\n",
    "\n",
    "# Filter the purchase data of high-value customers within the churn analysis period\n",
    "# high_value_customer_ids = high_value_customers['customer_id'].tolist()\n",
    "churn_analysis_data = df[df['customer_id'] & (pd.to_datetime(df['purchase_datetime']) >= cutoff_date)]\n"
   ]
  },
  {
   "cell_type": "code",
   "execution_count": 512,
   "id": "77c743b4",
   "metadata": {},
   "outputs": [
    {
     "data": {
      "text/html": [
       "<div>\n",
       "<style scoped>\n",
       "    .dataframe tbody tr th:only-of-type {\n",
       "        vertical-align: middle;\n",
       "    }\n",
       "\n",
       "    .dataframe tbody tr th {\n",
       "        vertical-align: top;\n",
       "    }\n",
       "\n",
       "    .dataframe thead th {\n",
       "        text-align: right;\n",
       "    }\n",
       "</style>\n",
       "<table border=\"1\" class=\"dataframe\">\n",
       "  <thead>\n",
       "    <tr style=\"text-align: right;\">\n",
       "      <th></th>\n",
       "      <th>address_id</th>\n",
       "      <th>postal_code</th>\n",
       "      <th>district</th>\n",
       "      <th>region</th>\n",
       "      <th>customer_id</th>\n",
       "      <th>birthdate</th>\n",
       "      <th>gender</th>\n",
       "      <th>job_type</th>\n",
       "      <th>email_provider</th>\n",
       "      <th>flag_phone_provided</th>\n",
       "      <th>...</th>\n",
       "      <th>loyatlty_status</th>\n",
       "      <th>activation_date</th>\n",
       "      <th>order_id</th>\n",
       "      <th>store_id</th>\n",
       "      <th>product_id</th>\n",
       "      <th>direction</th>\n",
       "      <th>gross_price</th>\n",
       "      <th>price_reduction</th>\n",
       "      <th>purchase_datetime</th>\n",
       "      <th>product_class</th>\n",
       "    </tr>\n",
       "  </thead>\n",
       "  <tbody>\n",
       "    <tr>\n",
       "      <th>0</th>\n",
       "      <td>6962</td>\n",
       "      <td>29121</td>\n",
       "      <td>PC</td>\n",
       "      <td>EMILIA ROMAGNA</td>\n",
       "      <td>7821</td>\n",
       "      <td>1984-10-03</td>\n",
       "      <td>M</td>\n",
       "      <td>0</td>\n",
       "      <td>gmail.com</td>\n",
       "      <td>1.0</td>\n",
       "      <td>...</td>\n",
       "      <td>1</td>\n",
       "      <td>2022-04-06</td>\n",
       "      <td>cff01b663e65a4a426add3d3591dd113</td>\n",
       "      <td>11</td>\n",
       "      <td>33700716</td>\n",
       "      <td>1</td>\n",
       "      <td>0.2</td>\n",
       "      <td>0.0</td>\n",
       "      <td>2022-08-23 13:13:03</td>\n",
       "      <td>10</td>\n",
       "    </tr>\n",
       "    <tr>\n",
       "      <th>1</th>\n",
       "      <td>228406</td>\n",
       "      <td>24022</td>\n",
       "      <td>BG</td>\n",
       "      <td>LOMBARDIA</td>\n",
       "      <td>246969</td>\n",
       "      <td>1978-12-27</td>\n",
       "      <td>F</td>\n",
       "      <td>0</td>\n",
       "      <td>personal_mail_provider_7382</td>\n",
       "      <td>1.0</td>\n",
       "      <td>...</td>\n",
       "      <td>1</td>\n",
       "      <td>2022-03-13</td>\n",
       "      <td>8f7735a267cccb1e922a38d31b8f4b0b</td>\n",
       "      <td>40</td>\n",
       "      <td>33700716</td>\n",
       "      <td>1</td>\n",
       "      <td>0.2</td>\n",
       "      <td>0.0</td>\n",
       "      <td>2022-07-21 11:50:07</td>\n",
       "      <td>10</td>\n",
       "    </tr>\n",
       "    <tr>\n",
       "      <th>3</th>\n",
       "      <td>278496</td>\n",
       "      <td>125</td>\n",
       "      <td>RM</td>\n",
       "      <td>LAZIO</td>\n",
       "      <td>298715</td>\n",
       "      <td>1977-04-29</td>\n",
       "      <td>F</td>\n",
       "      <td>0</td>\n",
       "      <td>gmail.com</td>\n",
       "      <td>0.0</td>\n",
       "      <td>...</td>\n",
       "      <td>1</td>\n",
       "      <td>2022-04-08</td>\n",
       "      <td>61b4e60e8f1503508a0f739e43b49df1</td>\n",
       "      <td>39</td>\n",
       "      <td>33700716</td>\n",
       "      <td>1</td>\n",
       "      <td>0.2</td>\n",
       "      <td>0.0</td>\n",
       "      <td>2023-03-28 12:30:35</td>\n",
       "      <td>10</td>\n",
       "    </tr>\n",
       "    <tr>\n",
       "      <th>4</th>\n",
       "      <td>385332</td>\n",
       "      <td>6059</td>\n",
       "      <td>PG</td>\n",
       "      <td>UMBRIA</td>\n",
       "      <td>406505</td>\n",
       "      <td>1976-04-26</td>\n",
       "      <td>F</td>\n",
       "      <td>0</td>\n",
       "      <td>gmail.com</td>\n",
       "      <td>1.0</td>\n",
       "      <td>...</td>\n",
       "      <td>1</td>\n",
       "      <td>2022-06-02</td>\n",
       "      <td>de7f5649c28e00f03cace55339474a35</td>\n",
       "      <td>9</td>\n",
       "      <td>33700716</td>\n",
       "      <td>1</td>\n",
       "      <td>0.2</td>\n",
       "      <td>0.0</td>\n",
       "      <td>2022-08-04 18:25:49</td>\n",
       "      <td>10</td>\n",
       "    </tr>\n",
       "    <tr>\n",
       "      <th>11</th>\n",
       "      <td>625158</td>\n",
       "      <td>148</td>\n",
       "      <td>RM</td>\n",
       "      <td>LAZIO</td>\n",
       "      <td>640999</td>\n",
       "      <td>1974-07-11</td>\n",
       "      <td>F</td>\n",
       "      <td>0</td>\n",
       "      <td>hotmail.it</td>\n",
       "      <td>1.0</td>\n",
       "      <td>...</td>\n",
       "      <td>1</td>\n",
       "      <td>2022-11-08</td>\n",
       "      <td>ab5a674b6e9939cd62be6e12cbeb3386</td>\n",
       "      <td>33</td>\n",
       "      <td>33700716</td>\n",
       "      <td>1</td>\n",
       "      <td>0.2</td>\n",
       "      <td>0.0</td>\n",
       "      <td>2022-11-08 18:58:01</td>\n",
       "      <td>10</td>\n",
       "    </tr>\n",
       "  </tbody>\n",
       "</table>\n",
       "<p>5 rows × 25 columns</p>\n",
       "</div>"
      ],
      "text/plain": [
       "    address_id  postal_code district          region  customer_id   birthdate  \\\n",
       "0         6962        29121       PC  EMILIA ROMAGNA         7821  1984-10-03   \n",
       "1       228406        24022       BG       LOMBARDIA       246969  1978-12-27   \n",
       "3       278496          125       RM           LAZIO       298715  1977-04-29   \n",
       "4       385332         6059       PG          UMBRIA       406505  1976-04-26   \n",
       "11      625158          148       RM           LAZIO       640999  1974-07-11   \n",
       "\n",
       "   gender job_type               email_provider  flag_phone_provided  ...  \\\n",
       "0       M        0                    gmail.com                  1.0  ...   \n",
       "1       F        0  personal_mail_provider_7382                  1.0  ...   \n",
       "3       F        0                    gmail.com                  0.0  ...   \n",
       "4       F        0                    gmail.com                  1.0  ...   \n",
       "11      F        0                   hotmail.it                  1.0  ...   \n",
       "\n",
       "    loyatlty_status  activation_date                          order_id  \\\n",
       "0                 1       2022-04-06  cff01b663e65a4a426add3d3591dd113   \n",
       "1                 1       2022-03-13  8f7735a267cccb1e922a38d31b8f4b0b   \n",
       "3                 1       2022-04-08  61b4e60e8f1503508a0f739e43b49df1   \n",
       "4                 1       2022-06-02  de7f5649c28e00f03cace55339474a35   \n",
       "11                1       2022-11-08  ab5a674b6e9939cd62be6e12cbeb3386   \n",
       "\n",
       "    store_id product_id  direction gross_price price_reduction  \\\n",
       "0         11   33700716          1         0.2             0.0   \n",
       "1         40   33700716          1         0.2             0.0   \n",
       "3         39   33700716          1         0.2             0.0   \n",
       "4          9   33700716          1         0.2             0.0   \n",
       "11        33   33700716          1         0.2             0.0   \n",
       "\n",
       "      purchase_datetime  product_class  \n",
       "0   2022-08-23 13:13:03             10  \n",
       "1   2022-07-21 11:50:07             10  \n",
       "3   2023-03-28 12:30:35             10  \n",
       "4   2022-08-04 18:25:49             10  \n",
       "11  2022-11-08 18:58:01             10  \n",
       "\n",
       "[5 rows x 25 columns]"
      ]
     },
     "execution_count": 512,
     "metadata": {},
     "output_type": "execute_result"
    }
   ],
   "source": [
    "churn_analysis_data.head()"
   ]
  },
  {
   "cell_type": "code",
   "execution_count": 513,
   "id": "3c17e098",
   "metadata": {},
   "outputs": [
    {
     "data": {
      "text/plain": [
       "(142, 25)"
      ]
     },
     "execution_count": 513,
     "metadata": {},
     "output_type": "execute_result"
    }
   ],
   "source": [
    "churn_analysis_data.shape"
   ]
  },
  {
   "cell_type": "code",
   "execution_count": 514,
   "id": "853f34f5",
   "metadata": {},
   "outputs": [
    {
     "data": {
      "text/plain": [
       "30"
      ]
     },
     "execution_count": 514,
     "metadata": {},
     "output_type": "execute_result"
    }
   ],
   "source": [
    "COUNT  = churn_analysis_data['customer_id'].nunique()\n",
    "COUNT"
   ]
  },
  {
   "cell_type": "code",
   "execution_count": 515,
   "id": "0a0f9b65",
   "metadata": {},
   "outputs": [],
   "source": [
    "# Group the churn analysis data by customer and count the number of purchases\n",
    "customer_purchases = churn_analysis_data.groupby('customer_id')['purchase_datetime'].count()\n",
    "\n",
    "# Identify churned customers who have no purchases within the churn analysis period\n",
    "churned_customers = customer_purchases[customer_purchases < 12].index.tolist()"
   ]
  },
  {
   "cell_type": "code",
   "execution_count": 516,
   "id": "72660432",
   "metadata": {},
   "outputs": [
    {
     "data": {
      "text/plain": [
       "customer_id\n",
       "7821       4\n",
       "20211      6\n",
       "40587      2\n",
       "84587      9\n",
       "93263     12\n",
       "94505      1\n",
       "181555    17\n",
       "203601     2\n",
       "225861     4\n",
       "229985     1\n",
       "234763     1\n",
       "246969     1\n",
       "264555     4\n",
       "289021     1\n",
       "298715     4\n",
       "308545    16\n",
       "352089     2\n",
       "406505     9\n",
       "431885     6\n",
       "458071     6\n",
       "531249     2\n",
       "548505     1\n",
       "640999    12\n",
       "664885     1\n",
       "672955     3\n",
       "684219     2\n",
       "696001     5\n",
       "749375     3\n",
       "785061     3\n",
       "792819     2\n",
       "Name: purchase_datetime, dtype: int64"
      ]
     },
     "execution_count": 516,
     "metadata": {},
     "output_type": "execute_result"
    }
   ],
   "source": [
    "customer_purchases"
   ]
  },
  {
   "cell_type": "code",
   "execution_count": 517,
   "id": "32ba8967",
   "metadata": {},
   "outputs": [
    {
     "data": {
      "text/plain": [
       "[7821,\n",
       " 20211,\n",
       " 40587,\n",
       " 84587,\n",
       " 94505,\n",
       " 203601,\n",
       " 225861,\n",
       " 229985,\n",
       " 234763,\n",
       " 246969,\n",
       " 264555,\n",
       " 289021,\n",
       " 298715,\n",
       " 352089,\n",
       " 406505,\n",
       " 431885,\n",
       " 458071,\n",
       " 531249,\n",
       " 548505,\n",
       " 664885,\n",
       " 672955,\n",
       " 684219,\n",
       " 696001,\n",
       " 749375,\n",
       " 785061,\n",
       " 792819]"
      ]
     },
     "execution_count": 517,
     "metadata": {},
     "output_type": "execute_result"
    }
   ],
   "source": [
    "churned_customers"
   ]
  },
  {
   "cell_type": "code",
   "execution_count": 518,
   "id": "86a081d7",
   "metadata": {},
   "outputs": [
    {
     "data": {
      "image/png": "[encoded data removed]",
      "text/plain": [
       "<Figure size 800x800 with 1 Axes>"
      ]
     },
     "metadata": {},
     "output_type": "display_data"
    }
   ],
   "source": [
    "\n",
    "# Count the number of churned customers\n",
    "num_churned = len(churned_customers)\n",
    "\n",
    "# Plot the number of churned customers\n",
    "plt.figure(figsize=(8, 8))\n",
    "plt.bar(['Churned', 'Non-Churned'], [num_churned, len(customer_purchases) - num_churned])\n",
    "plt.xlabel('Churn Status')\n",
    "plt.ylabel('Number of Customers')\n",
    "plt.title('Churn Analysis')\n",
    "plt.show()\n"
   ]
  },
  {
   "cell_type": "code",
   "execution_count": 519,
   "id": "7b68ef2b",
   "metadata": {},
   "outputs": [
    {
     "data": {
      "text/plain": [
       "4"
      ]
     },
     "execution_count": 519,
     "metadata": {},
     "output_type": "execute_result"
    }
   ],
   "source": [
    "notChurned = len(customer_purchases) - num_churned\n",
    "notChurned"
   ]
  },
  {
   "cell_type": "code",
   "execution_count": 520,
   "id": "453d1282",
   "metadata": {},
   "outputs": [],
   "source": [
    "rfm_data['Churn'] = 0\n",
    "rfm_data.loc[(rfm_data['recency'] <= recency_threshold) & (rfm_data['frequency'] >= frequency_threshold) & (rfm_data['monetary'] >= monetary_threshold), 'Churn'] = 1\n"
   ]
  },
  {
   "cell_type": "code",
   "execution_count": null,
   "id": "f0b3d6a7",
   "metadata": {},
   "outputs": [],
   "source": []
  },
  {
   "cell_type": "code",
   "execution_count": 521,
   "id": "06cf745d",
   "metadata": {},
   "outputs": [],
   "source": [
    "dfChurn = pd.merge(df, rfm_data, on='customer_id')\n",
    "# Select the relevant attributes for churn prediction\n",
    "dfChurn = dfChurn[['customer_id','recency', 'activation_date', 'loyatlty_status', 'Churn']]"
   ]
  },
  {
   "cell_type": "code",
   "execution_count": 522,
   "id": "7941b739",
   "metadata": {},
   "outputs": [
    {
     "data": {
      "text/html": [
       "<div>\n",
       "<style scoped>\n",
       "    .dataframe tbody tr th:only-of-type {\n",
       "        vertical-align: middle;\n",
       "    }\n",
       "\n",
       "    .dataframe tbody tr th {\n",
       "        vertical-align: top;\n",
       "    }\n",
       "\n",
       "    .dataframe thead th {\n",
       "        text-align: right;\n",
       "    }\n",
       "</style>\n",
       "<table border=\"1\" class=\"dataframe\">\n",
       "  <thead>\n",
       "    <tr style=\"text-align: right;\">\n",
       "      <th></th>\n",
       "      <th>customer_id</th>\n",
       "      <th>recency</th>\n",
       "      <th>activation_date</th>\n",
       "      <th>loyatlty_status</th>\n",
       "      <th>Churn</th>\n",
       "    </tr>\n",
       "  </thead>\n",
       "  <tbody>\n",
       "    <tr>\n",
       "      <th>0</th>\n",
       "      <td>7821</td>\n",
       "      <td>233</td>\n",
       "      <td>2022-04-06</td>\n",
       "      <td>1</td>\n",
       "      <td>0</td>\n",
       "    </tr>\n",
       "    <tr>\n",
       "      <th>4</th>\n",
       "      <td>246969</td>\n",
       "      <td>266</td>\n",
       "      <td>2022-03-13</td>\n",
       "      <td>1</td>\n",
       "      <td>0</td>\n",
       "    </tr>\n",
       "    <tr>\n",
       "      <th>5</th>\n",
       "      <td>298715</td>\n",
       "      <td>15</td>\n",
       "      <td>2022-04-08</td>\n",
       "      <td>1</td>\n",
       "      <td>1</td>\n",
       "    </tr>\n",
       "    <tr>\n",
       "      <th>39</th>\n",
       "      <td>406505</td>\n",
       "      <td>-14</td>\n",
       "      <td>2022-06-02</td>\n",
       "      <td>1</td>\n",
       "      <td>1</td>\n",
       "    </tr>\n",
       "    <tr>\n",
       "      <th>61</th>\n",
       "      <td>693062</td>\n",
       "      <td>-10</td>\n",
       "      <td>2022-12-06</td>\n",
       "      <td>1</td>\n",
       "      <td>1</td>\n",
       "    </tr>\n",
       "  </tbody>\n",
       "</table>\n",
       "</div>"
      ],
      "text/plain": [
       "    customer_id  recency activation_date  loyatlty_status  Churn\n",
       "0          7821      233      2022-04-06                1      0\n",
       "4        246969      266      2022-03-13                1      0\n",
       "5        298715       15      2022-04-08                1      1\n",
       "39       406505      -14      2022-06-02                1      1\n",
       "61       693062      -10      2022-12-06                1      1"
      ]
     },
     "execution_count": 522,
     "metadata": {},
     "output_type": "execute_result"
    }
   ],
   "source": [
    "dfChurn.drop_duplicates().head()"
   ]
  },
  {
   "cell_type": "code",
   "execution_count": 542,
   "id": "96fdc1ea",
   "metadata": {},
   "outputs": [],
   "source": [
    "# Make churn probability predictions using the trained model\n",
    "X_pred = dfChurn[['Recency', 'loyatlty_status']]\n",
    "dfChurn['churn_probability'] = model.predict_proba(X_pred)[:, 1]\n"
   ]
  },
  {
   "cell_type": "code",
   "execution_count": 544,
   "id": "ae69096d",
   "metadata": {},
   "outputs": [
    {
     "data": {
      "text/html": [
       "<div>\n",
       "<style scoped>\n",
       "    .dataframe tbody tr th:only-of-type {\n",
       "        vertical-align: middle;\n",
       "    }\n",
       "\n",
       "    .dataframe tbody tr th {\n",
       "        vertical-align: top;\n",
       "    }\n",
       "\n",
       "    .dataframe thead th {\n",
       "        text-align: right;\n",
       "    }\n",
       "</style>\n",
       "<table border=\"1\" class=\"dataframe\">\n",
       "  <thead>\n",
       "    <tr style=\"text-align: right;\">\n",
       "      <th></th>\n",
       "      <th>Recency</th>\n",
       "      <th>loyatlty_status</th>\n",
       "      <th>Churn</th>\n",
       "      <th>churn_probability</th>\n",
       "    </tr>\n",
       "  </thead>\n",
       "  <tbody>\n",
       "    <tr>\n",
       "      <th>0</th>\n",
       "      <td>4</td>\n",
       "      <td>1</td>\n",
       "      <td>0</td>\n",
       "      <td>0.197716</td>\n",
       "    </tr>\n",
       "    <tr>\n",
       "      <th>4</th>\n",
       "      <td>1</td>\n",
       "      <td>1</td>\n",
       "      <td>0</td>\n",
       "      <td>0.156514</td>\n",
       "    </tr>\n",
       "    <tr>\n",
       "      <th>5</th>\n",
       "      <td>34</td>\n",
       "      <td>1</td>\n",
       "      <td>1</td>\n",
       "      <td>0.807997</td>\n",
       "    </tr>\n",
       "    <tr>\n",
       "      <th>39</th>\n",
       "      <td>22</td>\n",
       "      <td>1</td>\n",
       "      <td>1</td>\n",
       "      <td>0.574926</td>\n",
       "    </tr>\n",
       "    <tr>\n",
       "      <th>61</th>\n",
       "      <td>30</td>\n",
       "      <td>1</td>\n",
       "      <td>1</td>\n",
       "      <td>0.742440</td>\n",
       "    </tr>\n",
       "  </tbody>\n",
       "</table>\n",
       "</div>"
      ],
      "text/plain": [
       "    Recency  loyatlty_status  Churn  churn_probability\n",
       "0         4                1      0           0.197716\n",
       "4         1                1      0           0.156514\n",
       "5        34                1      1           0.807997\n",
       "39       22                1      1           0.574926\n",
       "61       30                1      1           0.742440"
      ]
     },
     "execution_count": 544,
     "metadata": {},
     "output_type": "execute_result"
    }
   ],
   "source": [
    "dfChurn.drop_duplicates().head()"
   ]
  },
  {
   "cell_type": "code",
   "execution_count": 523,
   "id": "4167b6ea",
   "metadata": {},
   "outputs": [],
   "source": [
    "# Applying Machine Learning Algorithms for churn prediction, such as Logistic Regression, \n",
    "# Random Forest, Multilayer Perceptrons, Decision Tree or Gradient Boosting Machine. \n",
    "# Fit the selected model to the training data."
   ]
  },
  {
   "cell_type": "code",
   "execution_count": 524,
   "id": "506bfd03",
   "metadata": {},
   "outputs": [],
   "source": [
    "from sklearn.model_selection import train_test_split\n",
    "\n",
    "X = dfChurn[['customer_id', 'recency', 'activation_date', 'loyatlty_status']]\n",
    "y = dfChurn['Churn']\n",
    "\n",
    "# Split the data into training and testing sets\n",
    "X_train, X_test, y_train, y_test = train_test_split(X, y, test_size=0.2, random_state=42)\n"
   ]
  },
  {
   "cell_type": "code",
   "execution_count": 525,
   "id": "5eec7b87",
   "metadata": {},
   "outputs": [
    {
     "data": {
      "text/html": [
       "<div>\n",
       "<style scoped>\n",
       "    .dataframe tbody tr th:only-of-type {\n",
       "        vertical-align: middle;\n",
       "    }\n",
       "\n",
       "    .dataframe tbody tr th {\n",
       "        vertical-align: top;\n",
       "    }\n",
       "\n",
       "    .dataframe thead th {\n",
       "        text-align: right;\n",
       "    }\n",
       "</style>\n",
       "<table border=\"1\" class=\"dataframe\">\n",
       "  <thead>\n",
       "    <tr style=\"text-align: right;\">\n",
       "      <th></th>\n",
       "      <th>customer_id</th>\n",
       "      <th>recency</th>\n",
       "      <th>activation_date</th>\n",
       "      <th>loyatlty_status</th>\n",
       "    </tr>\n",
       "  </thead>\n",
       "  <tbody>\n",
       "    <tr>\n",
       "      <th>66</th>\n",
       "      <td>693062</td>\n",
       "      <td>-10</td>\n",
       "      <td>2022-12-06</td>\n",
       "      <td>1</td>\n",
       "    </tr>\n",
       "    <tr>\n",
       "      <th>132</th>\n",
       "      <td>458071</td>\n",
       "      <td>237</td>\n",
       "      <td>2022-07-02</td>\n",
       "      <td>1</td>\n",
       "    </tr>\n",
       "    <tr>\n",
       "      <th>223</th>\n",
       "      <td>572518</td>\n",
       "      <td>143</td>\n",
       "      <td>2022-09-21</td>\n",
       "      <td>1</td>\n",
       "    </tr>\n",
       "    <tr>\n",
       "      <th>31</th>\n",
       "      <td>298715</td>\n",
       "      <td>15</td>\n",
       "      <td>2022-04-08</td>\n",
       "      <td>1</td>\n",
       "    </tr>\n",
       "    <tr>\n",
       "      <th>84</th>\n",
       "      <td>693062</td>\n",
       "      <td>-10</td>\n",
       "      <td>2022-12-06</td>\n",
       "      <td>1</td>\n",
       "    </tr>\n",
       "    <tr>\n",
       "      <th>...</th>\n",
       "      <td>...</td>\n",
       "      <td>...</td>\n",
       "      <td>...</td>\n",
       "      <td>...</td>\n",
       "    </tr>\n",
       "    <tr>\n",
       "      <th>71</th>\n",
       "      <td>693062</td>\n",
       "      <td>-10</td>\n",
       "      <td>2022-12-06</td>\n",
       "      <td>1</td>\n",
       "    </tr>\n",
       "    <tr>\n",
       "      <th>106</th>\n",
       "      <td>640999</td>\n",
       "      <td>105</td>\n",
       "      <td>2022-11-08</td>\n",
       "      <td>1</td>\n",
       "    </tr>\n",
       "    <tr>\n",
       "      <th>270</th>\n",
       "      <td>474890</td>\n",
       "      <td>198</td>\n",
       "      <td>2022-07-14</td>\n",
       "      <td>1</td>\n",
       "    </tr>\n",
       "    <tr>\n",
       "      <th>348</th>\n",
       "      <td>45132</td>\n",
       "      <td>178</td>\n",
       "      <td>2022-04-15</td>\n",
       "      <td>1</td>\n",
       "    </tr>\n",
       "    <tr>\n",
       "      <th>102</th>\n",
       "      <td>640999</td>\n",
       "      <td>105</td>\n",
       "      <td>2022-11-08</td>\n",
       "      <td>1</td>\n",
       "    </tr>\n",
       "  </tbody>\n",
       "</table>\n",
       "<p>341 rows × 4 columns</p>\n",
       "</div>"
      ],
      "text/plain": [
       "     customer_id  recency activation_date  loyatlty_status\n",
       "66        693062      -10      2022-12-06                1\n",
       "132       458071      237      2022-07-02                1\n",
       "223       572518      143      2022-09-21                1\n",
       "31        298715       15      2022-04-08                1\n",
       "84        693062      -10      2022-12-06                1\n",
       "..           ...      ...             ...              ...\n",
       "71        693062      -10      2022-12-06                1\n",
       "106       640999      105      2022-11-08                1\n",
       "270       474890      198      2022-07-14                1\n",
       "348        45132      178      2022-04-15                1\n",
       "102       640999      105      2022-11-08                1\n",
       "\n",
       "[341 rows x 4 columns]"
      ]
     },
     "execution_count": 525,
     "metadata": {},
     "output_type": "execute_result"
    }
   ],
   "source": [
    "X_train"
   ]
  },
  {
   "cell_type": "code",
   "execution_count": null,
   "id": "041e256b",
   "metadata": {},
   "outputs": [],
   "source": []
  },
  {
   "cell_type": "code",
   "execution_count": 526,
   "id": "79e715c9",
   "metadata": {},
   "outputs": [],
   "source": [
    "import pandas as pd\n",
    "from sklearn.model_selection import train_test_split\n",
    "from sklearn.linear_model import LogisticRegression\n",
    "from sklearn.metrics import accuracy_score, precision_score, recall_score, f1_score"
   ]
  },
  {
   "cell_type": "code",
   "execution_count": 527,
   "id": "b3cb791e",
   "metadata": {},
   "outputs": [
    {
     "name": "stdout",
     "output_type": "stream",
     "text": [
      "Accuracy: 0.7790697674418605\n",
      "Precision: 0.775\n",
      "Recall: 0.7560975609756098\n",
      "F1-score: 0.7654320987654322\n"
     ]
    }
   ],
   "source": [
    "# Convert 'purchase_datetime' column to datetime format\n",
    "df['purchase_datetime'] = pd.to_datetime(df['purchase_datetime'])\n",
    "\n",
    "# Merge the relevant attributes from dfOrders and dfCusAcc DataFrames based on the common column(s)\n",
    "dfChurn = pd.merge(df, rfm_data, on='customer_id')\n",
    "\n",
    "# Select the necessary features for churn prediction\n",
    "dfChurn = dfChurn[['customer_id', 'purchase_datetime', 'loyatlty_status', 'Churn']]\n",
    "\n",
    "# Calculate purchase frequency for each customer\n",
    "dfChurn['Recency'] = dfChurn.groupby('customer_id')['purchase_datetime'].transform('count')\n",
    "\n",
    "# Select the final features for churn prediction\n",
    "dfChurn = dfChurn[['Recency', 'loyatlty_status', 'Churn']]\n",
    "\n",
    "# Split the data into training and testing sets\n",
    "X = dfChurn[['Recency', 'loyatlty_status']]\n",
    "y = dfChurn['Churn']\n",
    "X_train, X_test, y_train, y_test = train_test_split(X, y, test_size=0.2, random_state=42)\n",
    "\n",
    "# Create a logistic regression model\n",
    "model = LogisticRegression()\n",
    "\n",
    "# Fit the model to the training data\n",
    "model.fit(X_train, y_train)\n",
    "\n",
    "# Make predictions on the test data\n",
    "y_pred = model.predict(X_test)\n",
    "\n",
    "# Evaluate the model's performance\n",
    "accuracy = accuracy_score(y_test, y_pred)\n",
    "precision = precision_score(y_test, y_pred)\n",
    "recall = recall_score(y_test, y_pred)\n",
    "f1 = f1_score(y_test, y_pred)\n",
    "\n",
    "print(\"Accuracy:\", accuracy)\n",
    "print(\"Precision:\", precision)\n",
    "print(\"Recall:\", recall)\n",
    "print(\"F1-score:\", f1)\n"
   ]
  },
  {
   "cell_type": "code",
   "execution_count": 286,
   "id": "5ceb7930",
   "metadata": {},
   "outputs": [],
   "source": [
    "### Random Forest Classifier"
   ]
  },
  {
   "cell_type": "code",
   "execution_count": 528,
   "id": "fdd481e9",
   "metadata": {},
   "outputs": [],
   "source": [
    "\n",
    "from sklearn.ensemble import RandomForestClassifier\n",
    "\n",
    "rf_clf = RandomForestClassifier(n_estimators=500, max_leaf_nodes=16, random_state=42)\n",
    "rf_clf.fit(X_train, y_train)\n",
    "\n",
    "y_pred = rf_clf.predict(X_test)\n"
   ]
  },
  {
   "cell_type": "code",
   "execution_count": 529,
   "id": "930d0c27",
   "metadata": {},
   "outputs": [
    {
     "name": "stdout",
     "output_type": "stream",
     "text": [
      "Accuracy: 93.02%\n"
     ]
    }
   ],
   "source": [
    "#Returns the mean accuracy on the given test data and labels.\n",
    "print(\"Accuracy:\", f\"{round(rf_clf.score(X_test, y_test), 4):.2%}\")"
   ]
  },
  {
   "cell_type": "code",
   "execution_count": 530,
   "id": "a76776bb",
   "metadata": {},
   "outputs": [
    {
     "name": "stdout",
     "output_type": "stream",
     "text": [
      "Accuracy: 0.9302325581395349\n",
      "Precision: 0.8723404255319149\n",
      "Recall: 1.0\n",
      "F1-score: 0.9318181818181819\n"
     ]
    }
   ],
   "source": [
    "from sklearn.metrics import accuracy_score, precision_score, recall_score, f1_score\n",
    "\n",
    "accuracy = accuracy_score(y_test, y_pred)\n",
    "precision = precision_score(y_test, y_pred)\n",
    "recall = recall_score(y_test, y_pred)\n",
    "f1 = f1_score(y_test, y_pred)\n",
    "\n",
    "print(\"Accuracy:\", accuracy)\n",
    "print(\"Precision:\", precision)\n",
    "print(\"Recall:\", recall)\n",
    "print(\"F1-score:\", f1)\n"
   ]
  },
  {
   "cell_type": "code",
   "execution_count": null,
   "id": "01d1b894",
   "metadata": {},
   "outputs": [],
   "source": [
    "### Multilayer Perceptron"
   ]
  },
  {
   "cell_type": "code",
   "execution_count": 531,
   "id": "b386cfe6",
   "metadata": {},
   "outputs": [
    {
     "name": "stdout",
     "output_type": "stream",
     "text": [
      "Accuracy: 0.813953488372093\n",
      "Precision: 0.7192982456140351\n",
      "Recall: 1.0\n",
      "F1-score: 0.8367346938775511\n"
     ]
    },
    {
     "name": "stderr",
     "output_type": "stream",
     "text": [
      "C:\\Users\\Admin\\anaconda3\\lib\\site-packages\\sklearn\\neural_network\\_multilayer_perceptron.py:684: ConvergenceWarning:\n",
      "\n",
      "Stochastic Optimizer: Maximum iterations (200) reached and the optimization hasn't converged yet.\n",
      "\n"
     ]
    }
   ],
   "source": [
    "from sklearn.neural_network import MLPClassifier\n",
    "from sklearn.metrics import accuracy_score, precision_score, recall_score, f1_score\n",
    "\n",
    "mlp_clf = MLPClassifier()  # Instantiate an instance of the MLPClassifier\n",
    "mlp_clf.fit(X_train, y_train)  # Fit the model to the training data\n",
    "\n",
    "y_pred = mlp_clf.predict(X_test)  # Make predictions on the test data\n",
    "\n",
    "accuracy = accuracy_score(y_test, y_pred)\n",
    "precision = precision_score(y_test, y_pred)\n",
    "recall = recall_score(y_test, y_pred)\n",
    "f1 = f1_score(y_test, y_pred)\n",
    "\n",
    "print(\"Accuracy:\", accuracy)\n",
    "print(\"Precision:\", precision)\n",
    "print(\"Recall:\", recall)\n",
    "print(\"F1-score:\", f1)\n"
   ]
  },
  {
   "cell_type": "code",
   "execution_count": null,
   "id": "56914924",
   "metadata": {},
   "outputs": [],
   "source": [
    "###  Gradient Boosting Machine"
   ]
  },
  {
   "cell_type": "code",
   "execution_count": 532,
   "id": "796dcf8d",
   "metadata": {},
   "outputs": [
    {
     "name": "stdout",
     "output_type": "stream",
     "text": [
      "Accuracy: 0.9302325581395349\n",
      "Precision: 0.8723404255319149\n",
      "Recall: 1.0\n",
      "F1-score: 0.9318181818181819\n"
     ]
    }
   ],
   "source": [
    "from sklearn.ensemble import GradientBoostingClassifier\n",
    "from sklearn.metrics import accuracy_score, precision_score, recall_score, f1_score\n",
    "\n",
    "# Create a Gradient Boosting Classifier\n",
    "gbm_clf = GradientBoostingClassifier() \n",
    "\n",
    "# Fit the model to the training data\n",
    "gbm_clf.fit(X_train, y_train)  \n",
    "\n",
    "# Make predictions on the test data\n",
    "y_pred = gbm_clf.predict(X_test)  \n",
    "\n",
    "accuracy = accuracy_score(y_test, y_pred)\n",
    "precision = precision_score(y_test, y_pred)\n",
    "recall = recall_score(y_test, y_pred)\n",
    "f1 = f1_score(y_test, y_pred)\n",
    "\n",
    "print(\"Accuracy:\", accuracy)\n",
    "print(\"Precision:\", precision)\n",
    "print(\"Recall:\", recall)\n",
    "print(\"F1-score:\", f1)\n"
   ]
  },
  {
   "cell_type": "code",
   "execution_count": null,
   "id": "08179034",
   "metadata": {},
   "outputs": [],
   "source": [
    "# Decision Tree"
   ]
  },
  {
   "cell_type": "code",
   "execution_count": 534,
   "id": "b2c62bb2",
   "metadata": {},
   "outputs": [
    {
     "name": "stdout",
     "output_type": "stream",
     "text": [
      "Accuracy: 0.9302325581395349\n",
      "Precision: 1.0\n",
      "Recall: 0.8536585365853658\n",
      "F1-score: 0.9210526315789475\n"
     ]
    }
   ],
   "source": [
    "from sklearn.tree import DecisionTreeClassifier\n",
    "from sklearn.metrics import accuracy_score, precision_score, recall_score, f1_score\n",
    " \n",
    "# Create a Decision Tree classifier\n",
    "dct_clf = DecisionTreeClassifier()\n",
    "\n",
    "# Fit the model to the training data\n",
    "dct_clf.fit(X_train, y_train)\n",
    "\n",
    "# Make predictions on the test data\n",
    "y_pred = dct_clf.predict(X_test)\n",
    "\n",
    "# Evaluate the model's performance\n",
    "accuracy = accuracy_score(y_test, y_pred)\n",
    "precision = precision_score(y_test, y_pred)\n",
    "recall = recall_score(y_test, y_pred)\n",
    "f1 = f1_score(y_test, y_pred)\n",
    "\n",
    "print(\"Accuracy:\", accuracy)\n",
    "print(\"Precision:\", precision)\n",
    "print(\"Recall:\", recall)\n",
    "print(\"F1-score:\", f1)\n"
   ]
  },
  {
   "cell_type": "code",
   "execution_count": null,
   "id": "c871b73a",
   "metadata": {},
   "outputs": [],
   "source": [
    "### ROC curve and AUC"
   ]
  },
  {
   "cell_type": "code",
   "execution_count": 535,
   "id": "d2bf76dd",
   "metadata": {},
   "outputs": [
    {
     "data": {
      "image/png": "[encoded data removed]",
      "text/plain": [
       "<Figure size 1000x800 with 1 Axes>"
      ]
     },
     "metadata": {},
     "output_type": "display_data"
    }
   ],
   "source": [
    "from sklearn.metrics import roc_curve, auc\n",
    "import matplotlib.pyplot as plt\n",
    "\n",
    "classifiers = {\n",
    "    \"Logistic Regression\": model,\n",
    "    \"Random Forest\": rf_clf,\n",
    "    \"Multilayer Perceptron\": mlp_clf,\n",
    "    \"Gradient Boosting Machine\": gbm_clf,\n",
    "    \"Decision Tree\" : dct_clf\n",
    "}\n",
    "\n",
    "plt.figure(figsize=(10, 8))\n",
    "\n",
    "# Plot ROC curve for each classifier\n",
    "for name, clf in classifiers.items():\n",
    "    y_pred_probs = clf.predict_proba(X_test)[:, 1] \n",
    "    fpr, tpr, _ = roc_curve(y_test, y_pred_probs)\n",
    "    roc_auc = auc(fpr, tpr)\n",
    "    plt.plot(fpr, tpr, label='%s (AUC = %0.2f)' % (name, roc_auc))\n",
    "\n",
    "# Plot the random guessing line\n",
    "plt.plot([0, 1], [0, 1], 'k--')\n",
    "\n",
    "plt.xlabel('False Positive Rate')\n",
    "plt.ylabel('True Positive Rate')\n",
    "plt.title('Receiver Operating Characteristic (ROC) Curves')\n",
    "plt.legend(loc='lower right')\n",
    "plt.show()\n"
   ]
  },
  {
   "cell_type": "code",
   "execution_count": null,
   "id": "ddb7dc82",
   "metadata": {},
   "outputs": [],
   "source": [
    "////////////////////////////////////////////////////////////////////////////////////////////////////////////////////////////////"
   ]
  }
 ],
 "metadata": {
  "kernelspec": {
   "display_name": "Python 3 (ipykernel)",
   "language": "python",
   "name": "python3"
  },
  "language_info": {
   "codemirror_mode": {
    "name": "ipython",
    "version": 3
   },
   "file_extension": ".py",
   "mimetype": "text/x-python",
   "name": "python",
   "nbconvert_exporter": "python",
   "pygments_lexer": "ipython3",
   "version": "3.10.9"
  }
 },
 "nbformat": 4,
 "nbformat_minor": 5
}
